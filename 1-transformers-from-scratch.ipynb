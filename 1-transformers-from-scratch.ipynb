{
 "cells": [
  {
   "cell_type": "markdown",
   "metadata": {},
   "source": [
    "# Transformers desde (casi) cero\n",
    "\n",
    "[![Open In Colab](https://colab.research.google.com/assets/colab-badge.svg)](https://colab.research.google.com/github/Ohtar10/icesi-nlp/blob/main/Sesion3/1-transformers-from-scratch.ipynb)\n",
    "\n",
    "En este notebook implementaremos un clasificador de noticias en español utilizando transformers. Implementaremos parte de la arquitectura del modelo pieza por pieza para ver como funciona por dentro. Sin embargo, utilizarémos las utilidades de tokenización de huggingface transformers para ayudarnos con esta tarea.\n",
    "\n",
    "#### Referencias\n",
    "- Dataset: https://huggingface.co/datasets/MarcOrfilaCarreras/spanish-news\n",
    "- [Attention is All You Need](http://arxiv.org/abs/1706.03762)\n",
    "- [Natural Language Processing with Transformers: Building Language Applications With Hugging Face](https://www.amazon.com/Natural-Language-Processing-Transformers-Applications/dp/1098103246)\n",
    "- [Tutorial 5: Transformers and Multi-Head Attention](https://lightning.ai/docs/pytorch/stable/notebooks/course_UvA-DL/05-transformers-and-MH-attention.html)"
   ]
  },
  {
   "cell_type": "code",
   "execution_count": 1,
   "metadata": {},
   "outputs": [],
   "source": [
    "import pkg_resources\n",
    "import warnings\n",
    "\n",
    "warnings.filterwarnings('ignore')\n",
    "\n",
    "installed_packages = [package.key for package in pkg_resources.working_set]\n",
    "IN_COLAB = 'google-colab' in installed_packages"
   ]
  },
  {
   "cell_type": "code",
   "execution_count": null,
   "metadata": {},
   "outputs": [],
   "source": [
    "#!test '{IN_COLAB}' = 'True' && wget  https://github.com/Ohtar10/icesi-nlp/raw/refs/heads/main/requirements.txt && pip install -r requirements.txt\n",
    "!test '{IN_COLAB}' = 'True' && sudo apt-get update -y\n",
    "!test '{IN_COLAB}' = 'True' && sudo apt-get install python3.10 python3.10-distutils python3.10-lib2to3 -y\n",
    "!test '{IN_COLAB}' = 'True' && sudo update-alternatives --install /usr/local/bin/python python /usr/bin/python3.11 2\n",
    "!test '{IN_COLAB}' = 'True' && sudo update-alternatives --install /usr/local/bin/python python /usr/bin/python3.10 1\n",
    "!test '{IN_COLAB}' = 'True' && pip install lightning datasets 'transformers[torch]' sentence-transformers"
   ]
  },
  {
   "cell_type": "markdown",
   "metadata": {},
   "source": [
    "### Cargando el dataset\n",
    "Este es un dataset pequeño de articulos de noticias en idioma español con sus respectivas categorías. El dataset está disponible en el HuggingFace Hub y puede ser fácilmente descargado con la librería."
   ]
  },
  {
   "cell_type": "code",
   "execution_count": 1,
   "metadata": {},
   "outputs": [
    {
     "name": "stderr",
     "output_type": "stream",
     "text": [
      "/home/luis/anaconda3/envs/nlp_env/lib/python3.11/site-packages/tqdm/auto.py:21: TqdmWarning: IProgress not found. Please update jupyter and ipywidgets. See https://ipywidgets.readthedocs.io/en/stable/user_install.html\n",
      "  from .autonotebook import tqdm as notebook_tqdm\n"
     ]
    },
    {
     "data": {
      "text/plain": [
       "Dataset({\n",
       "    features: ['tokens', 'ner_tags', 'langs', 'spans'],\n",
       "    num_rows: 20000\n",
       "})"
      ]
     },
     "execution_count": 1,
     "metadata": {},
     "output_type": "execute_result"
    }
   ],
   "source": [
    "from datasets import load_dataset\n",
    "import warnings\n",
    "import os\n",
    "\n",
    "warnings.filterwarnings(\"ignore\")\n",
    "os.environ['TOKENIZERS_PARALLELISM'] = 'false'\n",
    "dataset = load_dataset(\"wikiann\", \"es\", split='train')\n",
    "dataset"
   ]
  },
  {
   "cell_type": "markdown",
   "metadata": {},
   "source": [
    "## DATASET wikiANN (es)\n",
    "\n",
    "#### **Columnas principales**\n",
    "\n",
    "* `tokens`: Lista de palabras (ej. `[\"José\", \"Luis\", \"García\"]`).\n",
    "* `ner_tags`: Lista de enteros que representan etiquetas IOB.\n",
    "* `langs`: Idioma por token (aquí siempre `\"es\"`).\n",
    "* `spans`: Entidades completas (ej. `\"PER: José Luis García\"`).\n",
    "\n",
    "#### **Formato de Etiquetas (IOB)**\n",
    "\n",
    "El dataset usa un esquema IOB con 3 tipos de entidades: **Persona (PER)**, **Organización (ORG)** y **Lugar (LOC)**.\n",
    "\n",
    "| ID | Tag   | Significado               |\n",
    "| -- | ----- | ------------------------- |\n",
    "| 0  | O     | Outside (ninguna entidad) |\n",
    "| 1  | B-PER | Beginning of Person       |\n",
    "| 2  | I-PER | Inside Person             |\n",
    "| 3  | B-ORG | Beginning of Organization |\n",
    "| 4  | I-ORG | Inside Organization       |\n",
    "| 5  | B-LOC | Beginning of Location     |\n",
    "| 6  | I-LOC | Inside Location           |\n",
    "\n",
    "**Número de etiquetas (`num_labels`) = 7**\n",
    "\n",
    "#### **Ejemplo de muestra**\n",
    "\n",
    "```python\n",
    "{\n",
    " 'tokens': ['REDIRECCIÓN', 'José', 'Luis', 'García'],\n",
    " 'ner_tags': [0, 1, 2, 2],\n",
    " 'langs': ['es', 'es', 'es', 'es'],\n",
    " 'spans': ['PER: José Luis García']\n",
    "}\n",
    "```\n",
    "\n",
    "Interpretación:\n",
    "\n",
    "```\n",
    "'REDIRECCIÓN' → O\n",
    "'José'        → B-PER\n",
    "'Luis'        → I-PER\n",
    "'García'      → I-PER\n",
    "```"
   ]
  },
  {
   "cell_type": "code",
   "execution_count": 2,
   "metadata": {},
   "outputs": [
    {
     "data": {
      "text/plain": [
       "{'tokens': ['Condado', 'de', 'Duplin', 'suroeste'],\n",
       " 'ner_tags': [5, 6, 6, 0],\n",
       " 'langs': ['es', 'es', 'es', 'es'],\n",
       " 'spans': ['LOC: Condado de Duplin']}"
      ]
     },
     "execution_count": 2,
     "metadata": {},
     "output_type": "execute_result"
    }
   ],
   "source": [
    "dataset[7]"
   ]
  },
  {
   "cell_type": "markdown",
   "metadata": {},
   "source": [
    "Para los efectos de esta tarea, nos servirán el texto y la categoría naturalmente.\n",
    "\n",
    "A manera general, observemos que tan largos o cortos tienden a ser los textos."
   ]
  },
  {
   "cell_type": "code",
   "execution_count": 3,
   "metadata": {},
   "outputs": [
    {
     "name": "stdout",
     "output_type": "stream",
     "text": [
      "Texto más corto: 3\n",
      "Texto más largo: 64\n",
      "Longitud promedio: 6.46415\n"
     ]
    }
   ],
   "source": [
    "text_lengths = [len(row['tokens']) for row in dataset]\n",
    "print(f\"Texto más corto: {min(text_lengths)}\")\n",
    "print(f\"Texto más largo: {max(text_lengths)}\")\n",
    "print(f\"Longitud promedio: {sum(text_lengths) / len(text_lengths)}\")"
   ]
  },
  {
   "cell_type": "markdown",
   "metadata": {},
   "source": [
    "Estos valores son la cantidad de *caractéres* que tiene las secuencias. Una decisión ingenua pero útil en este momento podría ser ajustar la longitud de las secuencias que vamos a usar para el entrenamiento a unos 2000 tokens. Esto podría ser suficiente para capturar una porción significativa de los textos.\n",
    "\n",
    "## Definiendo el Tokenizer\n",
    "\n",
    "Ahora, vamos a definir el tokenizer para nuestra tarea. Para ahorrarnos tiempo, vamos a entrenar uno basado en gpt2, pero ajustandolo a nuestro dataset. Para ello, debemos seleccionar una muestra representativa de nuestro dataset, como no es muy grande, lo usare todo. "
   ]
  },
  {
   "cell_type": "code",
   "execution_count": null,
   "metadata": {},
   "outputs": [
    {
     "name": "stderr",
     "output_type": "stream",
     "text": [
      "100%|██████████| 1000/1000 [00:00<00:00, 3662.17it/s]\n"
     ]
    },
    {
     "name": "stdout",
     "output_type": "stream",
     "text": [
      "\n",
      "\n",
      "\n"
     ]
    }
   ],
   "source": [
    "'''from tqdm.auto import tqdm\n",
    "from transformers import AutoTokenizer\n",
    "from transformers.models.gpt2.tokenization_gpt2 import bytes_to_unicode\n",
    "\n",
    "\n",
    "length = 10000\n",
    "iter_dataset = iter(dataset)\n",
    "tokenizer = AutoTokenizer.from_pretrained(\"gpt2\")\n",
    "\n",
    "byte_to_unicode_map = bytes_to_unicode()\n",
    "unicode_to_byte_map = dict((v, k) for k, v in byte_to_unicode_map.items())\n",
    "base_vocab = list(unicode_to_byte_map.keys())\n",
    "\n",
    "def batch_iterator(batch_size: int = 10):\n",
    "    for _ in tqdm(range(0, length, batch_size)):        \n",
    "        examples = [next(iter_dataset) for _ in range(batch_size)]\n",
    "        yield [\" \".join(ex['tokens']) for ex in examples]\n",
    "        #yield [next(iter_dataset)['text'] for _ in range(batch_size)]\n",
    "\n",
    "\n",
    "ner_tokenizer = tokenizer.train_new_from_iterator(\n",
    "    batch_iterator(),\n",
    "    vocab_size=20000,            # tamaño más razonable para tu GPU\n",
    "    initial_alphabet=base_vocab\n",
    ")\n",
    "#spanish_news_tokenizer = tokenizer.train_new_from_iterator(batch_iterator(), vocab_size=50000, initial_alphabet=base_vocab)'''\n"
   ]
  },
  {
   "cell_type": "code",
   "execution_count": 4,
   "metadata": {},
   "outputs": [
    {
     "name": "stderr",
     "output_type": "stream",
     "text": [
      "100%|██████████| 1000/1000 [00:00<00:00, 3819.20it/s]\n"
     ]
    },
    {
     "name": "stdout",
     "output_type": "stream",
     "text": [
      "\n",
      "\n",
      "\n",
      "✅ New tokenizer trained!\n",
      "Vocab size: 20000\n"
     ]
    }
   ],
   "source": [
    "from tqdm.auto import tqdm\n",
    "from transformers import AutoTokenizer\n",
    "from transformers.models.gpt2.tokenization_gpt2 import bytes_to_unicode\n",
    "\n",
    "# Use GPT-2 tokenizer as base, enabling prefix space for pre-tokenized data\n",
    "tokenizer = AutoTokenizer.from_pretrained(\"gpt2\", add_prefix_space=True)\n",
    "\n",
    "# Build initial alphabet from GPT-2 byte-level BPE\n",
    "byte_to_unicode_map = bytes_to_unicode()\n",
    "unicode_to_byte_map = dict((v, k) for k, v in byte_to_unicode_map.items())\n",
    "base_vocab = list(unicode_to_byte_map.keys())\n",
    "\n",
    "# Iterator for WikiANN dataset\n",
    "length = 10000  # or len(dataset) if you want the full dataset\n",
    "iter_dataset = iter(dataset)\n",
    "\n",
    "def batch_iterator(batch_size: int = 10):\n",
    "    for _ in tqdm(range(0, length, batch_size)):\n",
    "        examples = [next(iter_dataset) for _ in range(batch_size)]\n",
    "        yield [\" \".join(ex['tokens']) for ex in examples]  # ✅ FIX\n",
    "\n",
    "# Train new tokenizer from raw text (joined tokens)\n",
    "ner_tokenizer = tokenizer.train_new_from_iterator(\n",
    "    batch_iterator(),\n",
    "    vocab_size=20000,            # Adjust based on GPU/memory\n",
    "    initial_alphabet=base_vocab\n",
    ")\n",
    "\n",
    "print(\"✅ New tokenizer trained!\")\n",
    "print(\"Vocab size:\", ner_tokenizer.vocab_size)\n"
   ]
  },
  {
   "cell_type": "markdown",
   "metadata": {},
   "source": [
    "Exploremos ahora el tokenizador obtenido."
   ]
  },
  {
   "cell_type": "code",
   "execution_count": 6,
   "metadata": {},
   "outputs": [
    {
     "name": "stdout",
     "output_type": "stream",
     "text": [
      "Vocabulario: 20000 tokens\n",
      "Primeros 15 tokens:\n",
      "['<|endoftext|>', '!', '\"', '#', '$', '%', '&', \"'\", '(', ')', '*', '+', ',', '-', '.']\n",
      "15 tokens de en medio:\n",
      "['él', 'rig', ' He', 'tag', ' Unión', ' 27', 'ack', ' Social', '199', ' junto', ' Ángel', 'bu', 'bal', 'par', 'pol']\n",
      "Últimos 15 tokens:\n",
      "['inite', ' Pinilla', ' Pineda', ' Pinares', ' Pinotti', ' Pinatar', ' Pincheira', ' Bose', ' Bosco', ' Bossoni', ' Brain', ' Brave', ' Bracho', ' Brawn', ' Brabham']\n"
     ]
    }
   ],
   "source": [
    "tokens = sorted(ner_tokenizer.vocab.items(), key=lambda x: x[1], reverse=False)\n",
    "print(f\"Vocabulario: {ner_tokenizer.vocab_size} tokens\")\n",
    "print(\"Primeros 15 tokens:\")\n",
    "print([f\"{ner_tokenizer.convert_tokens_to_string([t])}\" for t, _ in tokens[:15]])\n",
    "print(\"15 tokens de en medio:\")\n",
    "print([f\"{ner_tokenizer.convert_tokens_to_string([t])}\" for t, _ in tokens[1000:1015]])\n",
    "print(\"Últimos 15 tokens:\")\n",
    "print([f\"{ner_tokenizer.convert_tokens_to_string([t])}\" for t, _ in tokens[-15:]])"
   ]
  },
  {
   "cell_type": "markdown",
   "metadata": {},
   "source": [
    "Vemos que los primeros tokens corresponden a caracteres especiales y puntiación. Luego en el medio tenemos una combinación entre palabras completas y cortadas, el tokenizador se encarga de encontrar las frecuencias más comunes y asi partir las palabras por aquellas partes que tienden a repetirse mas. Esto es muy útil para trabajar con modelos de lenguaje ya que el modelo se vuelve robusto a diferentes ramificaciones de palabras e incluso a errores de tipografía. Finalmente, al final, vemos que tenemos más palabras cortadas y palabras muy especiales. Algo importante aquí es que podamos ver que los tokens tienen sentido con respecto a nuestro corpus.\n",
    "\n",
    "Ahora veamos como convierte el tokenizador una oración muy sencilla:"
   ]
  },
  {
   "cell_type": "code",
   "execution_count": 7,
   "metadata": {},
   "outputs": [
    {
     "data": {
      "text/plain": [
       "{'input_ids': [497, 1548, 4560, 1, 0, 0, 0, 0], 'attention_mask': [1, 1, 1, 1, 0, 0, 0, 0]}"
      ]
     },
     "execution_count": 7,
     "metadata": {},
     "output_type": "execute_result"
    }
   ],
   "source": [
    "ner_tokenizer.pad_token = '[PAD]'\n",
    "ner_tokenizer(\"hola mundo!\", max_length=8, truncation=True, padding='max_length')"
   ]
  },
  {
   "cell_type": "markdown",
   "metadata": {},
   "source": [
    "Lo que obtenemos de vuelta son los ids de cada token según el vocabulario. Ahora algo importante que notamos aquí es el *padding*, durante el entrenamiento, queremos que las secuencias sean de tamaño fijo, para asi operar comodamente con matrices. Pero ya vimos que no todos los textos tienen la misma longitud. Entonces que hacer? para los que son más largos que una longitud dada simplemente cortamos, pero para los que son más cortos, debemos *rellenar* lo faltante con un *token especial de relleno o padding*. Y es justo lo que definimos allí, cuando la cadena es inferior a 8 **tokens**, entonces debemos hacer padding hasta que se cumplan los 8.\n",
    "\n",
    "Ahora, notemos que \"hola mundo!\" son 2 palabras, 9 letras, 1 espacio y 1 simbolo para un total de 11 caracteres, pero vemos que el resultado son 4 tokens y el padding. Esto es trabajo del tokenizador. Cuando lo entrenamos con nuestro corpus, el tokenizador computó las frecuencias de palabras y sus partes, tal como vimos arriba, entonces, estos tokens juntos forman la frase original, observemos:"
   ]
  },
  {
   "cell_type": "code",
   "execution_count": 8,
   "metadata": {},
   "outputs": [
    {
     "data": {
      "text/plain": [
       "['Ġh', 'ola', 'Ġmundo', '!', '[PAD]', '[PAD]', '[PAD]', '[PAD]']"
      ]
     },
     "execution_count": 8,
     "metadata": {},
     "output_type": "execute_result"
    }
   ],
   "source": [
    "ner_tokenizer(\"hola mundo!\", max_length=8, truncation=True, padding='max_length').tokens()"
   ]
  },
  {
   "cell_type": "markdown",
   "metadata": {},
   "source": [
    "Claramente vemos los 4 tokens como cadenas independientes.\n",
    "\n",
    "### Definiendo el dataset de pytorch\n",
    "Ahora podemos proceder a definir el dataset. Esto debería ser muy sencillo dado que nuestro dataset es pequeño y ya tenemos el tokenizador listo."
   ]
  },
  {
   "cell_type": "code",
   "execution_count": 9,
   "metadata": {},
   "outputs": [],
   "source": [
    "import torch\n",
    "import numpy as np\n",
    "from typing import Tuple, Dict\n",
    "from torch.utils.data import Dataset\n",
    "\n",
    "class SpanishNewsDataset(Dataset):\n",
    "\n",
    "    def __init__(self, tokenizer, dataset, seq_length: int = 512):\n",
    "        self.tokenizer = tokenizer\n",
    "        self.tokenizer.pad_token = '[PAD]'\n",
    "        self.dataset = dataset\n",
    "        self.seq_length = seq_length\n",
    "        # Definimos estos dos mapas para facilitarnos la tarea\n",
    "        # de traducir de nombres de categoría a ids de categoría.\n",
    "        self.id_2_class_map = dict(enumerate(np.unique(dataset[:]['category'])))\n",
    "        self.class_2_id_map = {v: k for k, v in self.id_2_class_map.items()}\n",
    "        self.num_classes = len(self.id_2_class_map)\n",
    "\n",
    "    def __getitem__(self, index) -> Dict[str, torch.Tensor]:\n",
    "        text, y = self.dataset[index]['text'], self.dataset[index]['category']\n",
    "        y = self.class_2_id_map[y]\n",
    "        data = {k: torch.tensor(v) for k, v in self.tokenizer(text, max_length=self.seq_length, truncation=True, padding='max_length').items()}\n",
    "        data['y'] = torch.tensor(y)\n",
    "        return data\n",
    "\n",
    "\n",
    "    def __len__(self):\n",
    "        return len(self.dataset)"
   ]
  },
  {
   "cell_type": "code",
   "execution_count": 10,
   "metadata": {},
   "outputs": [],
   "source": [
    "import torch\n",
    "from torch.utils.data import Dataset\n",
    "\n",
    "class WikiANN_NER_Dataset(Dataset):\n",
    "    def __init__(self, tokenizer, dataset, label_pad_id=-100, seq_length: int = 128):\n",
    "        self.tokenizer = tokenizer\n",
    "        self.dataset = dataset\n",
    "        self.seq_length = seq_length\n",
    "        self.label_pad_id = label_pad_id\n",
    "\n",
    "        # Mapeo de etiquetas (ej: O, B-PER, I-PER...)\n",
    "        self.id_2_class = {\n",
    "            0: \"O\",\n",
    "            1: \"B-PER\",\n",
    "            2: \"I-PER\",\n",
    "            3: \"B-ORG\",\n",
    "            4: \"I-ORG\",\n",
    "            5: \"B-LOC\",\n",
    "            6: \"I-LOC\"\n",
    "        }\n",
    "        self.class_2_id = {v: k for k, v in self.id_2_class.items()}\n",
    "        self.num_classes = len(self.id_2_class)\n",
    "\n",
    "    def __getitem__(self, index):\n",
    "        example = self.dataset[index]\n",
    "        tokens = example['tokens']\n",
    "        labels = example['ner_tags']\n",
    "\n",
    "        # Tokenizar preservando la alineación\n",
    "        tokenized = self.tokenizer(\n",
    "            tokens,\n",
    "            is_split_into_words=True,  # importante para listas de tokens\n",
    "            max_length=self.seq_length,\n",
    "            truncation=True,\n",
    "            padding='max_length',\n",
    "            return_tensors=\"pt\"\n",
    "        )\n",
    "\n",
    "        # Alinear etiquetas con subtokens\n",
    "        word_ids = tokenized.word_ids(batch_index=0)\n",
    "        aligned_labels = []\n",
    "        previous_word_idx = None\n",
    "\n",
    "        for word_idx in word_ids:\n",
    "            if word_idx is None:\n",
    "                aligned_labels.append(self.label_pad_id)  # para tokens especiales y padding\n",
    "            elif word_idx != previous_word_idx:\n",
    "                aligned_labels.append(labels[word_idx])  # etiqueta original\n",
    "            else:\n",
    "                # Si quieres etiquetar subtokens con la misma etiqueta:\n",
    "                aligned_labels.append(labels[word_idx])\n",
    "                # O si quieres ignorarlos:\n",
    "                # aligned_labels.append(self.label_pad_id)\n",
    "            previous_word_idx = word_idx\n",
    "\n",
    "        # Convertir a tensores\n",
    "        item = {\n",
    "            \"input_ids\": tokenized[\"input_ids\"].squeeze(0),\n",
    "            \"attention_mask\": tokenized[\"attention_mask\"].squeeze(0),\n",
    "            \"labels\": torch.tensor(aligned_labels)\n",
    "        }\n",
    "        return item\n",
    "\n",
    "    def __len__(self):\n",
    "        return len(self.dataset)\n"
   ]
  },
  {
   "cell_type": "markdown",
   "metadata": {},
   "source": [
    "Ahora instanciaremos el dataset entero. Para este experimento, definiremos un tamaño máximo de secuencia de 128 **tokens**  ya que nuestro dataset tiene registros de entre 3 y 64 tokens asi que deberia ser suficiente. "
   ]
  },
  {
   "cell_type": "code",
   "execution_count": 11,
   "metadata": {},
   "outputs": [],
   "source": [
    "max_len = 128\n",
    "ner_dataset = WikiANN_NER_Dataset(ner_tokenizer, dataset, seq_length=max_len)\n",
    "assert len(ner_dataset) == len(dataset)"
   ]
  },
  {
   "cell_type": "markdown",
   "metadata": {},
   "source": [
    "Y luego, procedemos a hacer el train-val-test split y crear los dataloaders."
   ]
  },
  {
   "cell_type": "code",
   "execution_count": 12,
   "metadata": {},
   "outputs": [],
   "source": [
    "from torch.utils.data import random_split\n",
    "from torch.utils.data import DataLoader\n",
    "\n",
    "batch_size = 4 \n",
    "train_dataset, val_dataset, test_dataset = random_split(ner_dataset, lengths=[0.8, 0.1, 0.1])\n",
    "train_loader = DataLoader(train_dataset, batch_size=4, shuffle=True, num_workers=2)\n",
    "val_loader = DataLoader(val_dataset, batch_size=4, shuffle=False, num_workers=2)\n",
    "test_loader = DataLoader(test_dataset, batch_size=4, shuffle=False, num_workers=2)"
   ]
  },
  {
   "cell_type": "markdown",
   "metadata": {},
   "source": [
    "### Definición de los Positional Embeddings\n",
    "\n",
    "Según el paper, los autores agregan una secuencia sinusoidal a los embeddings de los tokens con el fin de inyectar información referente a la posición de cada token en las frases. Esto obedece a la definición:\n",
    "\n",
    "$$\n",
    "PE(pos, 2i) = \\sin(pos/10000^{2i/d_{model}}) \\\\\n",
    "PE(pos, 2i + 1) = \\cos(pos/10000^{2i/d_{model}})\n",
    "$$\n",
    "\n",
    "Donde: \n",
    "- $pos$ es la posición del *token* en la secuencia.\n",
    "- $i$ es la dimensión $i$ en el embedding $d$.\n",
    "- $d_model$ es la dimensionalidad total del embedding.\n",
    "\n",
    "Lo que los autores propusieron fue que para las posiciones pares, se calculara el seno de la posición, relativa a la dimensionalidad del embedding y para las posiciones impares, se calculara el coseno. Según los autores, estos tenían la hipótesis de que estas funciones inyectarían la información posicional relativa de forma eficiente, en parte porque se pueden pre-calcular e inyectar directamente durante el entrenamiento, evitando asi emplear recursos en entrenar estructuras para aprenderlos.\n",
    "\n",
    "Esto último es particularmente importante ya que se evita tanto hacer uso de recursos innecesarios como acelerar el proceso de entrenamiento al no tener que computar gradientes para esta parte. Sin embargo, los autores también mencionaron que es ciertamente posible aprender estos positional embeddings como parte del entrenamiento y que según sus resultados, no había mucha diferencia entre ambos enfoques, razón por la cual, se prefiere el positional encoding sinusoidal."
   ]
  },
  {
   "cell_type": "code",
   "execution_count": 13,
   "metadata": {},
   "outputs": [],
   "source": [
    "import numpy as np\n",
    "import torch.nn as nn\n",
    "from enum import Enum\n",
    "from typing import Optional\n",
    "\n",
    "\n",
    "class PosEncodingType(Enum):\n",
    "    SINUSOID = 1\n",
    "    LEARNABLE = 2\n",
    "\n",
    "\n",
    "class SinusoidPE(nn.Module):\n",
    "\n",
    "    def __init__(self, max_len: int, d_model: int):\n",
    "        super(SinusoidPE, self).__init__()\n",
    "        \n",
    "        # Definimos un vector columna con las posiciones de la secuencia de entrada (pos)\n",
    "        pos = torch.arange(max_len).unsqueeze(1)\n",
    "        # Definimos un vector de fila con las dimensiones del embedding (i)\n",
    "        i = torch.arange(d_model).unsqueeze(0)\n",
    "\n",
    "        # Calculamos el denominador segun la formula\n",
    "        div_term = 1 / torch.pow(10000, (2 * (i // 2)) / torch.tensor(d_model, dtype=torch.float32))\n",
    "        # Aplicamos el denominador a las posiciones\n",
    "        angle_rads = pos * div_term\n",
    "\n",
    "        # Inicializamos la matriz de positional encodings\n",
    "        pos_encoding = torch.zeros(max_len, d_model)\n",
    "        # Calculamos los embeddings para los numeros pares con seno: PE(pos, 2i)\n",
    "        pos_encoding[:, 0::2] = torch.sin(angle_rads[:, 0::2])\n",
    "        # Calculamos los embdeddings para los numeros inpares con coseno: PE(pos, 2i+1)\n",
    "        pos_encoding[:, 1::2] = torch.cos(angle_rads[:, 1::2])\n",
    "        \n",
    "        # Registramos la variable como atributo de clase\n",
    "        self.register_buffer(\"pos_encoding\", pos_encoding.unsqueeze(0), persistent=False)\n",
    "\n",
    "\n",
    "    def forward(self, x: torch.Tensor) -> torch.Tensor:\n",
    "        return x + self.pos_encoding[:, :x.size(1), :]\n",
    "    \n",
    "\n",
    "class LearnablePE(nn.Module):\n",
    "\n",
    "    def __init__(self, vocab_size: int, d_model: int, max_len: int = float('-inf')):\n",
    "        super(LearnablePE, self).__init__()\n",
    "        self.max_len = max_len\n",
    "        self.embedding = nn.Embedding(vocab_size, d_model)\n",
    "\n",
    "    def forward(self, x: torch.Tensor) -> torch.Tensor:\n",
    "        positions = torch.arange(0, max(x.size(-1), self.max_len))\n",
    "        pos_emb = self.embedding(positions)\n",
    "        return x + pos_emb\n",
    "\n",
    "\n",
    "\n",
    "class TokenAndPosEmbedding(nn.Module):\n",
    "\n",
    "    def __init__(self, max_len: int, embed_dim: int, vocab_size: int, pos_encoding_type: PosEncodingType = PosEncodingType.SINUSOID):\n",
    "        super(TokenAndPosEmbedding, self).__init__()\n",
    "        self.token_emb = nn.Embedding(num_embeddings=vocab_size, embedding_dim=embed_dim)\n",
    "        if pos_encoding_type == PosEncodingType.SINUSOID:\n",
    "            self.pos_emb = SinusoidPE(max_len, embed_dim)\n",
    "        else:\n",
    "            self.pos_emb = LearnablePE(vocab_size, embed_dim)\n",
    "\n",
    "\n",
    "    def forward(self, x):\n",
    "        token_emb = self.token_emb(x)\n",
    "        return self.pos_emb(token_emb)\n",
    "\n",
    "        "
   ]
  },
  {
   "cell_type": "markdown",
   "metadata": {},
   "source": [
    "Ahora procedemos a instanciar el modulo que va a convertir los tokens en embeddings con positional embeddings."
   ]
  },
  {
   "cell_type": "code",
   "execution_count": 14,
   "metadata": {},
   "outputs": [],
   "source": [
    "emb_dim = 128 \n",
    "tpe = TokenAndPosEmbedding(max_len, emb_dim, ner_tokenizer.vocab_size)\n",
    "pos_encoding = tpe.pos_emb.pos_encoding.squeeze(0).numpy()\n"
   ]
  },
  {
   "cell_type": "markdown",
   "metadata": {},
   "source": [
    "A manera exploratoria, podemos observar gráficamente en que consisten estos vectores. En el siguiente gráfico podemos observar como los valores tienden a oscilar para diferentes posiciones en la dimensionalidad del embedding. Los valores individuales no tienen una interpretación directa, pero lo que vale la pena resaltar es que se observa una \"transición\" a medida que nos desplazamos por las dimensiones del embedding y sus respectivas posiciones, no es solo ruido."
   ]
  },
  {
   "cell_type": "code",
   "execution_count": 15,
   "metadata": {},
   "outputs": [
    {
     "data": {
      "image/png": "[encoded data removed]",
      "text/plain": [
       "<Figure size 1200x800 with 2 Axes>"
      ]
     },
     "metadata": {},
     "output_type": "display_data"
    }
   ],
   "source": [
    "import matplotlib.pyplot as plt\n",
    "\n",
    "plt.figure(figsize=(12, 8))\n",
    "plt.pcolormesh(pos_encoding, cmap='viridis')\n",
    "plt.xlabel('Embedding Dimensions')\n",
    "plt.xlim((0, emb_dim))\n",
    "plt.ylabel('Position')\n",
    "plt.colorbar()\n",
    "plt.show()"
   ]
  },
  {
   "cell_type": "markdown",
   "metadata": {},
   "source": [
    "Ahora, si pasamos nuestra frase simple por el tokenizador, deberíamos obtener una matriz con la forma: $(longitud, d_{model})$:"
   ]
  },
  {
   "cell_type": "code",
   "execution_count": 16,
   "metadata": {},
   "outputs": [
    {
     "data": {
      "text/plain": [
       "torch.Size([1, 128, 128])"
      ]
     },
     "execution_count": 16,
     "metadata": {},
     "output_type": "execute_result"
    }
   ],
   "source": [
    "text = \"hola mundo!\"\n",
    "tokens = ner_tokenizer(text, max_length=max_len, truncation=True, padding='max_length')\n",
    "x = torch.tensor(tokens['input_ids']).unsqueeze(0)\n",
    "mask = torch.tensor(tokens['input_ids']).unsqueeze(0)\n",
    "embedding = tpe(x)\n",
    "embedding.shape"
   ]
  },
  {
   "cell_type": "markdown",
   "metadata": {},
   "source": [
    "### Multi-Head Attention\n",
    "\n",
    "![](../assets/mh-attention.png)\n",
    "\n",
    "Ahora procedemos a definir al núcleo del modelo. Recodemos que la atención se define por:\n",
    "\n",
    "$$\n",
    "\\text{Attention}(Q, K, V) = \\text{softmax}(\\frac{QK^T}{\\sqrt{d_K}})V\n",
    "$$\n",
    "\n",
    "Que es la definición de \"Scaled Dot-Product Attention\". Y Multi-Head Attention es la concatenación de varias cabezas ejecutando el mismo scaled dot-product sobre partes del input. Entonces tenemos:"
   ]
  },
  {
   "cell_type": "code",
   "execution_count": 17,
   "metadata": {},
   "outputs": [],
   "source": [
    "import math\n",
    "\n",
    "\n",
    "class MultiHeadAttention(nn.Module):\n",
    "\n",
    "    def __init__(self, embed_size: int, num_heads: int = 8):\n",
    "        super(MultiHeadAttention, self).__init__()\n",
    "        self.embed_size = embed_size\n",
    "        self.num_heads = num_heads\n",
    "        assert embed_size & num_heads == 0, 'El tamaño del embedding debería ser divisible por el numero de cabezas'\n",
    "        self.projection_dim = embed_size // num_heads\n",
    "        self.query = nn.Linear(emb_dim, emb_dim)\n",
    "        self.key = nn.Linear(emb_dim, emb_dim)\n",
    "        self.value = nn.Linear(emb_dim, emb_dim)\n",
    "        self.comibe_heads = nn.Linear(emb_dim, emb_dim)\n",
    "\n",
    "\n",
    "    @staticmethod\n",
    "    def _scaled_dot_product(q, k, v, mask=None):\n",
    "        \"\"\"scaled dot product.\n",
    "\n",
    "        Esta función define el bloque mencionado.\n",
    "        Aquí se hace la multiplicación de matrices\n",
    "        entre los Q, K y V para luego calcular el \n",
    "        score de atención.\n",
    "\n",
    "        Nótese además que aquí aplicamos una máscara\n",
    "        de atención. Esto se debe a que como estamos\n",
    "        rellenando las cadenas cortas con un token que\n",
    "        en si mismo no trae ningún significado, no queremos\n",
    "        que la red desperdicie recursos operando sobre este\n",
    "        token, entonces usamos la máscara para poner los valores\n",
    "        de atención en numeros muy pequeños para que al\n",
    "        calcular el score, estos no sobresalgan sobre los demás.\n",
    "        \"\"\"\n",
    "        # d_k para el escalamiento\n",
    "        d_k = q.size()[-1]\n",
    "\n",
    "        # multiplicacion Q \\cdot K^T \n",
    "        attn_logits = torch.matmul(q, k.transpose(-2, -1))\n",
    "        # escalamiento\n",
    "        attn_logits = attn_logits / math.sqrt(d_k)\n",
    "        \n",
    "        # Se aplica la máscara\n",
    "        if mask is not None:\n",
    "            attn_logits = attn_logits.masked_fill(mask.reshape(mask.shape[0], 1, 1, -1) == 0, -9e-15)\n",
    "\n",
    "        # Se calcula el score de atención.\n",
    "        attention = torch.softmax(attn_logits, dim=-1)\n",
    "        # Se obtienen los valores tras el score de atención.\n",
    "        values = torch.matmul(attention, v)\n",
    "        return values, attention\n",
    "    \n",
    "\n",
    "    def _separate_heads(self, x, batch_size):\n",
    "        # Llega: (batch, seq_len, emb_dim)\n",
    "        x =  x.reshape(batch_size, -1, self.num_heads, self.projection_dim)  # (batch, seq_len, num_heads, emb_dim / num_heads)\n",
    "        return x.permute(0, 2, 1, 3)  # (batch, num_heads, seq_len, emb_dim / num_heads)\n",
    "    \n",
    "\n",
    "    def forward(self, x, mask=None, return_attention=False):\n",
    "        \"\"\"forward\n",
    "\n",
    "        Este es todo el forward pass del multi-head attention.\n",
    "        Aquí se coordina el resto de las operaciones, como\n",
    "        la concatenación de las múltiples cabezas como \n",
    "        el paso por la capa densa previo a entregar el\n",
    "        resultado.\n",
    "        \"\"\"\n",
    "        # x: (batch, seq_len, emb_dim)\n",
    "        batch_size, seq_len, emb_dim = x.size()\n",
    "        q = self.query(x)\n",
    "        k = self.key(x)\n",
    "        v = self.value(x)\n",
    "\n",
    "        q = self._separate_heads(q, batch_size)\n",
    "        k = self._separate_heads(k, batch_size)\n",
    "        v = self._separate_heads(v, batch_size)\n",
    "\n",
    "        weights, attention = self._scaled_dot_product(q, k, v, mask)\n",
    "        weights = weights.permute(0, 2, 1, 3) # (batch, seq_len, num_heads, emb_dim / num_heads)\n",
    "        weights = weights.reshape(batch_size, seq_len, emb_dim)\n",
    "        output = self.comibe_heads(weights)\n",
    "        \n",
    "        if return_attention:\n",
    "            return output, attention\n",
    "        else:\n",
    "            return output\n"
   ]
  },
  {
   "cell_type": "markdown",
   "metadata": {},
   "source": [
    "Podemos hacer una prueba rápida de que las operaciones funcionan a nivel de matrices."
   ]
  },
  {
   "cell_type": "code",
   "execution_count": 18,
   "metadata": {},
   "outputs": [
    {
     "data": {
      "text/plain": [
       "torch.Size([1, 128, 128])"
      ]
     },
     "execution_count": 18,
     "metadata": {},
     "output_type": "execute_result"
    }
   ],
   "source": [
    "mha = MultiHeadAttention(emb_dim)\n",
    "mha(embedding, mask).shape"
   ]
  },
  {
   "cell_type": "markdown",
   "metadata": {},
   "source": [
    "### Definición del bloque transformers\n",
    "\n",
    "![](../assets/transformers-achitecture.png)\n",
    "\n",
    "Finalmente, definimos el bloque de transformers. Recordemos que como esta es una tarea de clasificación, solamente necesitamos el encoder, por lo que esto es solamente la primera parte del diseño de arquitecura de red.\n",
    "\n",
    "En esta capa, simplemente ponemos una capa densa adicional junto con las normalizaciones a nivel de capa."
   ]
  },
  {
   "cell_type": "code",
   "execution_count": 19,
   "metadata": {},
   "outputs": [],
   "source": [
    "class TransformerBlock(nn.Module):\n",
    "    def __init__(self, emb_dim: int, num_heads: int = 8, ff_dim: int = 512, dropout: float = 0.1):\n",
    "        super().__init__()\n",
    "        self.mhatt = MultiHeadAttention(emb_dim, num_heads)\n",
    "        self.dropout1 = nn.Dropout(dropout)\n",
    "        self.layer_norm1 = nn.LayerNorm(emb_dim)\n",
    "        \n",
    "        self.ffn = nn.Sequential(\n",
    "            nn.Linear(emb_dim, ff_dim),\n",
    "            nn.ReLU(),\n",
    "            nn.Dropout(dropout),\n",
    "            nn.Linear(ff_dim, emb_dim)\n",
    "        )\n",
    "        self.dropout2 = nn.Dropout(dropout)\n",
    "        self.layer_norm2 = nn.LayerNorm(emb_dim)\n",
    "\n",
    "    def forward(self, x, mask=None):\n",
    "        # Multi-head attention with residual\n",
    "        attn_output = self.mhatt(x, mask)\n",
    "        x = x + self.dropout1(attn_output)\n",
    "        x = self.layer_norm1(x)\n",
    "        \n",
    "        # Feed-forward with residual\n",
    "        ffn_output = self.ffn(x)\n",
    "        x = x + self.dropout2(ffn_output)\n",
    "        x = self.layer_norm2(x)\n",
    "        \n",
    "        return x\n"
   ]
  },
  {
   "cell_type": "markdown",
   "metadata": {},
   "source": [
    "Nuevamente, probamos rapidamente para asegurarnos que las capas operan correctamente."
   ]
  },
  {
   "cell_type": "code",
   "execution_count": 20,
   "metadata": {},
   "outputs": [
    {
     "data": {
      "text/plain": [
       "torch.Size([1, 128, 128])"
      ]
     },
     "execution_count": 20,
     "metadata": {},
     "output_type": "execute_result"
    }
   ],
   "source": [
    "tb = TransformerBlock(emb_dim)\n",
    "tb(embedding, mask).shape"
   ]
  },
  {
   "cell_type": "code",
   "execution_count": null,
   "metadata": {},
   "outputs": [],
   "source": [
    "'''num_heads = 8\n",
    "vocab_size = spanish_news_tokenizer.vocab_size\n",
    "\n",
    "token_embeddings = TokenAndPosEmbedding(max_len, emb_dim, vocab_size)\n",
    "transformer = TransformerBlock(emb_dim, num_heads)\n",
    "ff = nn.Sequential(\n",
    "    nn.Flatten(),\n",
    "    nn.Linear(max_len * emb_dim, spanish_news_dataset.num_classes)\n",
    ")'''"
   ]
  },
  {
   "cell_type": "code",
   "execution_count": null,
   "metadata": {},
   "outputs": [],
   "source": [
    "\n",
    "num_heads=8\n",
    "labels = dataset.features[\"ner_tags\"].feature.names\n",
    "vocab_size = ner_tokenizer.vocab_size\n",
    "\n",
    "num_labels = len(labels)  # Example: WikiANN has ~4 main classes (O, PER, ORG, LOC)\n",
    "\n",
    "token_embeddings = TokenAndPosEmbedding(max_len, emb_dim, vocab_size)\n",
    "transformer = TransformerBlock(emb_dim, num_heads)\n",
    "\n",
    "# Instead of flattening, project each token embedding to num_labels\n",
    "classifier = nn.Linear(emb_dim, num_labels)\n"
   ]
  },
  {
   "cell_type": "code",
   "execution_count": 22,
   "metadata": {},
   "outputs": [
    {
     "name": "stdout",
     "output_type": "stream",
     "text": [
      "Embeddings shape: torch.Size([4, 128, 128])\n",
      "Transformer output shape: torch.Size([4, 128, 128])\n",
      "Logits shape: torch.Size([4, 128, 7])\n",
      "Labels shape: torch.Size([4, 128])\n"
     ]
    }
   ],
   "source": [
    "it = iter(train_loader)\n",
    "batch = next(it)\n",
    "\n",
    "x, mask, y = batch['input_ids'], batch['attention_mask'], batch['labels']  # rename 'y' -> 'labels' if needed\n",
    "\n",
    "# Embeddings\n",
    "embeddings = token_embeddings(x)\n",
    "print(\"Embeddings shape:\", embeddings.shape)  # (batch_size, max_len, emb_dim)\n",
    "\n",
    "# Transformer output\n",
    "attention = transformer(embeddings, mask)\n",
    "print(\"Transformer output shape:\", attention.shape)  # (batch_size, max_len, emb_dim)\n",
    "\n",
    "# Classifier output\n",
    "logits = classifier(attention)\n",
    "print(\"Logits shape:\", logits.shape)  # (batch_size, max_len, num_labels)\n",
    "\n",
    "# Check labels shape\n",
    "print(\"Labels shape:\", y.shape)  # (batch_size, max_len)\n"
   ]
  },
  {
   "cell_type": "code",
   "execution_count": 24,
   "metadata": {},
   "outputs": [
    {
     "data": {
      "text/plain": [
       "torch.Size([4, 128, 7])"
      ]
     },
     "execution_count": 24,
     "metadata": {},
     "output_type": "execute_result"
    }
   ],
   "source": [
    "pred = classifier(attention)\n",
    "pred.shape"
   ]
  },
  {
   "cell_type": "markdown",
   "metadata": {},
   "source": [
    "### Definición del clasificador\n",
    "\n",
    "Finalmente, definimos el modelo en si. Este modelo constará de 3 capas:\n",
    "\n",
    "- La tokenización, tal como la definimos anteriormente.\n",
    "- El transformer, que acabamos de decinir.\n",
    "- Una capa densa adicional que servirá como clasificador de aquello que nos entregue la capa del transformer.\n",
    "\n",
    "Como este es un LightningModule, aquí definiremos el resto de funciones utilitarias para el entrenamiento de la tarea."
   ]
  },
  {
   "cell_type": "code",
   "execution_count": 25,
   "metadata": {},
   "outputs": [],
   "source": [
    "import torch\n",
    "import torch.nn as nn\n",
    "import torch.nn.functional as F\n",
    "from pytorch_lightning import LightningModule\n",
    "from torchmetrics import Accuracy\n",
    "\n",
    "class WikiANNTransformerNER(LightningModule):\n",
    "\n",
    "    def __init__(self, max_len: int, vocab_size: int, num_labels: int, emb_dim: int, num_heads: int = 8, pad_idx: int = -100):\n",
    "        super(WikiANNTransformerNER, self).__init__()\n",
    "        self.save_hyperparameters()\n",
    "\n",
    "        self.token_embeddings = TokenAndPosEmbedding(max_len, emb_dim, vocab_size)\n",
    "        self.transformer = TransformerBlock(emb_dim, num_heads)\n",
    "        self.classifier = nn.Linear(emb_dim, num_labels)\n",
    "\n",
    "        # Metrics (compute accuracy ignoring padding)\n",
    "        self.train_acc = Accuracy(task=\"multiclass\", num_classes=num_labels, ignore_index=pad_idx)\n",
    "        self.val_acc = Accuracy(task=\"multiclass\", num_classes=num_labels, ignore_index=pad_idx)\n",
    "        self.test_acc = Accuracy(task=\"multiclass\", num_classes=num_labels, ignore_index=pad_idx)\n",
    "\n",
    "        self.pad_idx = pad_idx\n",
    "\n",
    "    def forward(self, x, mask=None):\n",
    "        embeddings = self.token_embeddings(x)  # (B, L, D)\n",
    "        attention = self.transformer(embeddings, mask)  # (B, L, D)\n",
    "        logits = self.classifier(attention)  # (B, L, num_labels)\n",
    "        return logits\n",
    "\n",
    "    def shared_step(self, batch, stage: str):\n",
    "        x, mask, y = batch['input_ids'], batch['attention_mask'], batch['labels']\n",
    "        logits = self(x, mask)  # (B, L, num_labels)\n",
    "\n",
    "        # Reshape for loss (flatten sequences)\n",
    "        loss = F.cross_entropy(logits.view(-1, self.hparams.num_labels),\n",
    "                               y.view(-1),\n",
    "                               ignore_index=self.pad_idx)\n",
    "\n",
    "        # Compute accuracy ignoring padding\n",
    "        self.log(f\"{stage}-loss\", loss, prog_bar=True, on_step=False, on_epoch=True)\n",
    "        return loss, logits, y\n",
    "\n",
    "    def training_step(self, batch, batch_idx):\n",
    "        loss, logits, y = self.shared_step(batch, \"train\")\n",
    "        self.train_acc(logits.view(-1, self.hparams.num_labels), y.view(-1))\n",
    "        self.log(\"train-acc\", self.train_acc, prog_bar=True, on_epoch=True)\n",
    "        return loss\n",
    "\n",
    "    def validation_step(self, batch, batch_idx):\n",
    "        loss, logits, y = self.shared_step(batch, \"val\")\n",
    "        self.val_acc(logits.view(-1, self.hparams.num_labels), y.view(-1))\n",
    "        self.log(\"val-acc\", self.val_acc, prog_bar=True, on_epoch=True)\n",
    "        return loss\n",
    "\n",
    "    def test_step(self, batch, batch_idx):\n",
    "        _, logits, y = self.shared_step(batch, \"test\")\n",
    "        self.test_acc(logits.view(-1, self.hparams.num_labels), y.view(-1))\n",
    "        self.log(\"test-acc\", self.test_acc, prog_bar=True, on_epoch=True)\n",
    "\n",
    "    def configure_optimizers(self):\n",
    "        return torch.optim.AdamW(self.parameters(), lr=2e-5, weight_decay=1e-5)\n"
   ]
  },
  {
   "cell_type": "code",
   "execution_count": 28,
   "metadata": {},
   "outputs": [
    {
     "name": "stderr",
     "output_type": "stream",
     "text": [
      "Using 16bit Automatic Mixed Precision (AMP)\n"
     ]
    },
    {
     "name": "stderr",
     "output_type": "stream",
     "text": [
      "💡 Tip: For seamless cloud uploads and versioning, try installing [litmodels](https://pypi.org/project/litmodels/) to enable LitModelCheckpoint, which syncs automatically with the Lightning model registry.\n",
      "GPU available: True (cuda), used: True\n",
      "TPU available: False, using: 0 TPU cores\n",
      "HPU available: False, using: 0 HPUs\n",
      "LOCAL_RANK: 0 - CUDA_VISIBLE_DEVICES: [0]\n",
      "\n",
      "  | Name             | Type                 | Params | Mode \n",
      "------------------------------------------------------------------\n",
      "0 | token_embeddings | TokenAndPosEmbedding | 2.6 M  | train\n",
      "1 | transformer      | TransformerBlock     | 198 K  | train\n",
      "2 | classifier       | Linear               | 903    | train\n",
      "3 | train_acc        | MulticlassAccuracy   | 0      | train\n",
      "4 | val_acc          | MulticlassAccuracy   | 0      | train\n",
      "5 | test_acc         | MulticlassAccuracy   | 0      | train\n",
      "------------------------------------------------------------------\n",
      "2.8 M     Trainable params\n",
      "0         Non-trainable params\n",
      "2.8 M     Total params\n",
      "11.037    Total estimated model params size (MB)\n",
      "22        Modules in train mode\n",
      "0         Modules in eval mode\n"
     ]
    },
    {
     "name": "stdout",
     "output_type": "stream",
     "text": [
      "Epoch 19: 100%|██████████| 4000/4000 [00:28<00:00, 141.27it/s, v_num=1, train-acc_step=1.000, val-loss=0.775, val-acc=0.720, train-loss=0.697, train-acc_epoch=0.751]"
     ]
    },
    {
     "name": "stderr",
     "output_type": "stream",
     "text": [
      "`Trainer.fit` stopped: `max_epochs=20` reached.\n"
     ]
    },
    {
     "name": "stdout",
     "output_type": "stream",
     "text": [
      "Epoch 19: 100%|██████████| 4000/4000 [00:28<00:00, 140.67it/s, v_num=1, train-acc_step=1.000, val-loss=0.775, val-acc=0.720, train-loss=0.697, train-acc_epoch=0.751]\n"
     ]
    }
   ],
   "source": [
    "num_labels = len(dataset.features[\"ner_tags\"].feature.names)\n",
    "pad_idx = -100  # HuggingFace datasets usually use this for ignored tokens\n",
    "\n",
    "model = WikiANNTransformerNER(\n",
    "    max_len=max_len,\n",
    "    vocab_size=ner_tokenizer.vocab_size,\n",
    "    num_labels=num_labels,\n",
    "    emb_dim=emb_dim,\n",
    "    num_heads=8,\n",
    "    pad_idx=pad_idx\n",
    ")\n",
    "\n",
    "from pytorch_lightning.loggers import TensorBoardLogger\n",
    "from pytorch_lightning.callbacks import EarlyStopping\n",
    "from pytorch_lightning import Trainer\n",
    "\n",
    "tb_logger = TensorBoardLogger(\"tb_logs\", name=\"WikiANN-TransformerNER\")\n",
    "callbacks = [EarlyStopping(monitor=\"val-loss\", patience=3, mode=\"min\")]\n",
    "\n",
    "trainer = Trainer(\n",
    "    max_epochs=20,\n",
    "    devices=1,\n",
    "    logger=tb_logger,\n",
    "    callbacks=callbacks,\n",
    "    precision=\"16-mixed\"\n",
    ")\n",
    "\n",
    "trainer.fit(model, train_dataloaders=train_loader, val_dataloaders=val_loader)\n"
   ]
  },
  {
   "cell_type": "markdown",
   "metadata": {},
   "source": [
    "Observemos el proceso de entrenamiento"
   ]
  },
  {
   "cell_type": "code",
   "execution_count": 25,
   "metadata": {},
   "outputs": [],
   "source": [
    "%load_ext tensorboard"
   ]
  },
  {
   "cell_type": "code",
   "execution_count": null,
   "metadata": {},
   "outputs": [],
   "source": [
    "%tensorboard --logdir tb_logs/"
   ]
  },
  {
   "cell_type": "markdown",
   "metadata": {},
   "source": [
    "Y como es de esperarse, realizaremos la validación contra el conjunto de prueba."
   ]
  },
  {
   "cell_type": "code",
   "execution_count": 29,
   "metadata": {},
   "outputs": [
    {
     "name": "stderr",
     "output_type": "stream",
     "text": [
      "LOCAL_RANK: 0 - CUDA_VISIBLE_DEVICES: [0]\n"
     ]
    },
    {
     "name": "stdout",
     "output_type": "stream",
     "text": [
      "Testing DataLoader 0: 100%|██████████| 500/500 [00:01<00:00, 317.02it/s]\n"
     ]
    },
    {
     "data": {
      "text/html": [
       "<pre style=\"white-space:pre;overflow-x:auto;line-height:normal;font-family:Menlo,'DejaVu Sans Mono',consolas,'Courier New',monospace\">┏━━━━━━━━━━━━━━━━━━━━━━━━━━━┳━━━━━━━━━━━━━━━━━━━━━━━━━━━┓\n",
       "┃<span style=\"font-weight: bold\">        Test metric        </span>┃<span style=\"font-weight: bold\">       DataLoader 0        </span>┃\n",
       "┡━━━━━━━━━━━━━━━━━━━━━━━━━━━╇━━━━━━━━━━━━━━━━━━━━━━━━━━━┩\n",
       "│<span style=\"color: #008080; text-decoration-color: #008080\">         test-acc          </span>│<span style=\"color: #800080; text-decoration-color: #800080\">    0.7082191109657288     </span>│\n",
       "│<span style=\"color: #008080; text-decoration-color: #008080\">         test-loss         </span>│<span style=\"color: #800080; text-decoration-color: #800080\">    0.8160772919654846     </span>│\n",
       "└───────────────────────────┴───────────────────────────┘\n",
       "</pre>\n"
      ],
      "text/plain": [
       "┏━━━━━━━━━━━━━━━━━━━━━━━━━━━┳━━━━━━━━━━━━━━━━━━━━━━━━━━━┓\n",
       "┃\u001b[1m \u001b[0m\u001b[1m       Test metric       \u001b[0m\u001b[1m \u001b[0m┃\u001b[1m \u001b[0m\u001b[1m      DataLoader 0       \u001b[0m\u001b[1m \u001b[0m┃\n",
       "┡━━━━━━━━━━━━━━━━━━━━━━━━━━━╇━━━━━━━━━━━━━━━━━━━━━━━━━━━┩\n",
       "│\u001b[36m \u001b[0m\u001b[36m        test-acc         \u001b[0m\u001b[36m \u001b[0m│\u001b[35m \u001b[0m\u001b[35m   0.7082191109657288    \u001b[0m\u001b[35m \u001b[0m│\n",
       "│\u001b[36m \u001b[0m\u001b[36m        test-loss        \u001b[0m\u001b[36m \u001b[0m│\u001b[35m \u001b[0m\u001b[35m   0.8160772919654846    \u001b[0m\u001b[35m \u001b[0m│\n",
       "└───────────────────────────┴───────────────────────────┘\n"
      ]
     },
     "metadata": {},
     "output_type": "display_data"
    },
    {
     "data": {
      "text/plain": [
       "[{'test-loss': 0.8160772919654846, 'test-acc': 0.7082191109657288}]"
      ]
     },
     "execution_count": 29,
     "metadata": {},
     "output_type": "execute_result"
    }
   ],
   "source": [
    "model.eval()\n",
    "trainer.test(model, test_loader)"
   ]
  },
  {
   "cell_type": "markdown",
   "metadata": {},
   "source": [
    "### Haciendo predicciones\n",
    "\n",
    "Finalmente, vamos a hacer uso del modelo y ver que tan bueno es para la clasificación de noticias."
   ]
  },
  {
   "cell_type": "code",
   "execution_count": 30,
   "metadata": {},
   "outputs": [
    {
     "name": "stderr",
     "output_type": "stream",
     "text": [
      "LOCAL_RANK: 0 - CUDA_VISIBLE_DEVICES: [0]\n"
     ]
    },
    {
     "name": "stdout",
     "output_type": "stream",
     "text": [
      "Predicting DataLoader 0:   0%|          | 0/500 [00:00<?, ?it/s]"
     ]
    },
    {
     "ename": "TypeError",
     "evalue": "embedding(): argument 'indices' (position 2) must be Tensor, not dict",
     "output_type": "error",
     "traceback": [
      "\u001b[31m---------------------------------------------------------------------------\u001b[39m",
      "\u001b[31mTypeError\u001b[39m                                 Traceback (most recent call last)",
      "\u001b[36mCell\u001b[39m\u001b[36m \u001b[39m\u001b[32mIn[30]\u001b[39m\u001b[32m, line 1\u001b[39m\n\u001b[32m----> \u001b[39m\u001b[32m1\u001b[39m predictions = \u001b[43mtrainer\u001b[49m\u001b[43m.\u001b[49m\u001b[43mpredict\u001b[49m\u001b[43m(\u001b[49m\u001b[43mmodel\u001b[49m\u001b[43m,\u001b[49m\u001b[43m \u001b[49m\u001b[43mtest_loader\u001b[49m\u001b[43m)\u001b[49m\n\u001b[32m      2\u001b[39m predictions = torch.cat(predictions, dim=\u001b[32m0\u001b[39m)\n\u001b[32m      3\u001b[39m predictions = torch.argmax(predictions, dim=-\u001b[32m1\u001b[39m)\n",
      "\u001b[36mFile \u001b[39m\u001b[32m~/anaconda3/envs/nlp_env/lib/python3.11/site-packages/pytorch_lightning/trainer/trainer.py:886\u001b[39m, in \u001b[36mTrainer.predict\u001b[39m\u001b[34m(self, model, dataloaders, datamodule, return_predictions, ckpt_path)\u001b[39m\n\u001b[32m    884\u001b[39m \u001b[38;5;28mself\u001b[39m.state.status = TrainerStatus.RUNNING\n\u001b[32m    885\u001b[39m \u001b[38;5;28mself\u001b[39m.predicting = \u001b[38;5;28;01mTrue\u001b[39;00m\n\u001b[32m--> \u001b[39m\u001b[32m886\u001b[39m \u001b[38;5;28;01mreturn\u001b[39;00m \u001b[43mcall\u001b[49m\u001b[43m.\u001b[49m\u001b[43m_call_and_handle_interrupt\u001b[49m\u001b[43m(\u001b[49m\n\u001b[32m    887\u001b[39m \u001b[43m    \u001b[49m\u001b[38;5;28;43mself\u001b[39;49m\u001b[43m,\u001b[49m\u001b[43m \u001b[49m\u001b[38;5;28;43mself\u001b[39;49m\u001b[43m.\u001b[49m\u001b[43m_predict_impl\u001b[49m\u001b[43m,\u001b[49m\u001b[43m \u001b[49m\u001b[43mmodel\u001b[49m\u001b[43m,\u001b[49m\u001b[43m \u001b[49m\u001b[43mdataloaders\u001b[49m\u001b[43m,\u001b[49m\u001b[43m \u001b[49m\u001b[43mdatamodule\u001b[49m\u001b[43m,\u001b[49m\u001b[43m \u001b[49m\u001b[43mreturn_predictions\u001b[49m\u001b[43m,\u001b[49m\u001b[43m \u001b[49m\u001b[43mckpt_path\u001b[49m\n\u001b[32m    888\u001b[39m \u001b[43m\u001b[49m\u001b[43m)\u001b[49m\n",
      "\u001b[36mFile \u001b[39m\u001b[32m~/anaconda3/envs/nlp_env/lib/python3.11/site-packages/pytorch_lightning/trainer/call.py:49\u001b[39m, in \u001b[36m_call_and_handle_interrupt\u001b[39m\u001b[34m(trainer, trainer_fn, *args, **kwargs)\u001b[39m\n\u001b[32m     47\u001b[39m     \u001b[38;5;28;01mif\u001b[39;00m trainer.strategy.launcher \u001b[38;5;129;01mis\u001b[39;00m \u001b[38;5;129;01mnot\u001b[39;00m \u001b[38;5;28;01mNone\u001b[39;00m:\n\u001b[32m     48\u001b[39m         \u001b[38;5;28;01mreturn\u001b[39;00m trainer.strategy.launcher.launch(trainer_fn, *args, trainer=trainer, **kwargs)\n\u001b[32m---> \u001b[39m\u001b[32m49\u001b[39m     \u001b[38;5;28;01mreturn\u001b[39;00m \u001b[43mtrainer_fn\u001b[49m\u001b[43m(\u001b[49m\u001b[43m*\u001b[49m\u001b[43margs\u001b[49m\u001b[43m,\u001b[49m\u001b[43m \u001b[49m\u001b[43m*\u001b[49m\u001b[43m*\u001b[49m\u001b[43mkwargs\u001b[49m\u001b[43m)\u001b[49m\n\u001b[32m     51\u001b[39m \u001b[38;5;28;01mexcept\u001b[39;00m _TunerExitException:\n\u001b[32m     52\u001b[39m     _call_teardown_hook(trainer)\n",
      "\u001b[36mFile \u001b[39m\u001b[32m~/anaconda3/envs/nlp_env/lib/python3.11/site-packages/pytorch_lightning/trainer/trainer.py:927\u001b[39m, in \u001b[36mTrainer._predict_impl\u001b[39m\u001b[34m(self, model, dataloaders, datamodule, return_predictions, ckpt_path)\u001b[39m\n\u001b[32m    923\u001b[39m     download_model_from_registry(ckpt_path, \u001b[38;5;28mself\u001b[39m)\n\u001b[32m    924\u001b[39m ckpt_path = \u001b[38;5;28mself\u001b[39m._checkpoint_connector._select_ckpt_path(\n\u001b[32m    925\u001b[39m     \u001b[38;5;28mself\u001b[39m.state.fn, ckpt_path, model_provided=model_provided, model_connected=\u001b[38;5;28mself\u001b[39m.lightning_module \u001b[38;5;129;01mis\u001b[39;00m \u001b[38;5;129;01mnot\u001b[39;00m \u001b[38;5;28;01mNone\u001b[39;00m\n\u001b[32m    926\u001b[39m )\n\u001b[32m--> \u001b[39m\u001b[32m927\u001b[39m results = \u001b[38;5;28;43mself\u001b[39;49m\u001b[43m.\u001b[49m\u001b[43m_run\u001b[49m\u001b[43m(\u001b[49m\u001b[43mmodel\u001b[49m\u001b[43m,\u001b[49m\u001b[43m \u001b[49m\u001b[43mckpt_path\u001b[49m\u001b[43m=\u001b[49m\u001b[43mckpt_path\u001b[49m\u001b[43m)\u001b[49m\n\u001b[32m    929\u001b[39m \u001b[38;5;28;01massert\u001b[39;00m \u001b[38;5;28mself\u001b[39m.state.stopped\n\u001b[32m    930\u001b[39m \u001b[38;5;28mself\u001b[39m.predicting = \u001b[38;5;28;01mFalse\u001b[39;00m\n",
      "\u001b[36mFile \u001b[39m\u001b[32m~/anaconda3/envs/nlp_env/lib/python3.11/site-packages/pytorch_lightning/trainer/trainer.py:1011\u001b[39m, in \u001b[36mTrainer._run\u001b[39m\u001b[34m(self, model, ckpt_path)\u001b[39m\n\u001b[32m   1006\u001b[39m \u001b[38;5;28mself\u001b[39m._signal_connector.register_signal_handlers()\n\u001b[32m   1008\u001b[39m \u001b[38;5;66;03m# ----------------------------\u001b[39;00m\n\u001b[32m   1009\u001b[39m \u001b[38;5;66;03m# RUN THE TRAINER\u001b[39;00m\n\u001b[32m   1010\u001b[39m \u001b[38;5;66;03m# ----------------------------\u001b[39;00m\n\u001b[32m-> \u001b[39m\u001b[32m1011\u001b[39m results = \u001b[38;5;28;43mself\u001b[39;49m\u001b[43m.\u001b[49m\u001b[43m_run_stage\u001b[49m\u001b[43m(\u001b[49m\u001b[43m)\u001b[49m\n\u001b[32m   1013\u001b[39m \u001b[38;5;66;03m# ----------------------------\u001b[39;00m\n\u001b[32m   1014\u001b[39m \u001b[38;5;66;03m# POST-Training CLEAN UP\u001b[39;00m\n\u001b[32m   1015\u001b[39m \u001b[38;5;66;03m# ----------------------------\u001b[39;00m\n\u001b[32m   1016\u001b[39m log.debug(\u001b[33mf\u001b[39m\u001b[33m\"\u001b[39m\u001b[38;5;132;01m{\u001b[39;00m\u001b[38;5;28mself\u001b[39m.\u001b[34m__class__\u001b[39m.\u001b[34m__name__\u001b[39m\u001b[38;5;132;01m}\u001b[39;00m\u001b[33m: trainer tearing down\u001b[39m\u001b[33m\"\u001b[39m)\n",
      "\u001b[36mFile \u001b[39m\u001b[32m~/anaconda3/envs/nlp_env/lib/python3.11/site-packages/pytorch_lightning/trainer/trainer.py:1050\u001b[39m, in \u001b[36mTrainer._run_stage\u001b[39m\u001b[34m(self)\u001b[39m\n\u001b[32m   1048\u001b[39m     \u001b[38;5;28;01mreturn\u001b[39;00m \u001b[38;5;28mself\u001b[39m._evaluation_loop.run()\n\u001b[32m   1049\u001b[39m \u001b[38;5;28;01mif\u001b[39;00m \u001b[38;5;28mself\u001b[39m.predicting:\n\u001b[32m-> \u001b[39m\u001b[32m1050\u001b[39m     \u001b[38;5;28;01mreturn\u001b[39;00m \u001b[38;5;28;43mself\u001b[39;49m\u001b[43m.\u001b[49m\u001b[43mpredict_loop\u001b[49m\u001b[43m.\u001b[49m\u001b[43mrun\u001b[49m\u001b[43m(\u001b[49m\u001b[43m)\u001b[49m\n\u001b[32m   1051\u001b[39m \u001b[38;5;28;01mif\u001b[39;00m \u001b[38;5;28mself\u001b[39m.training:\n\u001b[32m   1052\u001b[39m     \u001b[38;5;28;01mwith\u001b[39;00m isolate_rng():\n",
      "\u001b[36mFile \u001b[39m\u001b[32m~/anaconda3/envs/nlp_env/lib/python3.11/site-packages/pytorch_lightning/loops/utilities.py:179\u001b[39m, in \u001b[36m_no_grad_context.<locals>._decorator\u001b[39m\u001b[34m(self, *args, **kwargs)\u001b[39m\n\u001b[32m    177\u001b[39m     context_manager = torch.no_grad\n\u001b[32m    178\u001b[39m \u001b[38;5;28;01mwith\u001b[39;00m context_manager():\n\u001b[32m--> \u001b[39m\u001b[32m179\u001b[39m     \u001b[38;5;28;01mreturn\u001b[39;00m \u001b[43mloop_run\u001b[49m\u001b[43m(\u001b[49m\u001b[38;5;28;43mself\u001b[39;49m\u001b[43m,\u001b[49m\u001b[43m \u001b[49m\u001b[43m*\u001b[49m\u001b[43margs\u001b[49m\u001b[43m,\u001b[49m\u001b[43m \u001b[49m\u001b[43m*\u001b[49m\u001b[43m*\u001b[49m\u001b[43mkwargs\u001b[49m\u001b[43m)\u001b[49m\n",
      "\u001b[36mFile \u001b[39m\u001b[32m~/anaconda3/envs/nlp_env/lib/python3.11/site-packages/pytorch_lightning/loops/prediction_loop.py:125\u001b[39m, in \u001b[36m_PredictionLoop.run\u001b[39m\u001b[34m(self)\u001b[39m\n\u001b[32m    123\u001b[39m     \u001b[38;5;28mself\u001b[39m.batch_progress.is_last_batch = data_fetcher.done\n\u001b[32m    124\u001b[39m     \u001b[38;5;66;03m# run step hooks\u001b[39;00m\n\u001b[32m--> \u001b[39m\u001b[32m125\u001b[39m     \u001b[38;5;28;43mself\u001b[39;49m\u001b[43m.\u001b[49m\u001b[43m_predict_step\u001b[49m\u001b[43m(\u001b[49m\u001b[43mbatch\u001b[49m\u001b[43m,\u001b[49m\u001b[43m \u001b[49m\u001b[43mbatch_idx\u001b[49m\u001b[43m,\u001b[49m\u001b[43m \u001b[49m\u001b[43mdataloader_idx\u001b[49m\u001b[43m,\u001b[49m\u001b[43m \u001b[49m\u001b[43mdataloader_iter\u001b[49m\u001b[43m)\u001b[49m\n\u001b[32m    126\u001b[39m \u001b[38;5;28;01mexcept\u001b[39;00m \u001b[38;5;167;01mStopIteration\u001b[39;00m:\n\u001b[32m    127\u001b[39m     \u001b[38;5;66;03m# this needs to wrap the `*_step` call too (not just `next`) for `dataloader_iter` support\u001b[39;00m\n\u001b[32m    128\u001b[39m     \u001b[38;5;28;01mbreak\u001b[39;00m\n",
      "\u001b[36mFile \u001b[39m\u001b[32m~/anaconda3/envs/nlp_env/lib/python3.11/site-packages/pytorch_lightning/loops/prediction_loop.py:255\u001b[39m, in \u001b[36m_PredictionLoop._predict_step\u001b[39m\u001b[34m(self, batch, batch_idx, dataloader_idx, dataloader_iter)\u001b[39m\n\u001b[32m    249\u001b[39m \u001b[38;5;66;03m# configure step_kwargs\u001b[39;00m\n\u001b[32m    250\u001b[39m step_args = (\n\u001b[32m    251\u001b[39m     \u001b[38;5;28mself\u001b[39m._build_step_args_from_hook_kwargs(hook_kwargs, \u001b[33m\"\u001b[39m\u001b[33mpredict_step\u001b[39m\u001b[33m\"\u001b[39m)\n\u001b[32m    252\u001b[39m     \u001b[38;5;28;01mif\u001b[39;00m \u001b[38;5;129;01mnot\u001b[39;00m using_dataloader_iter\n\u001b[32m    253\u001b[39m     \u001b[38;5;28;01melse\u001b[39;00m (dataloader_iter,)\n\u001b[32m    254\u001b[39m )\n\u001b[32m--> \u001b[39m\u001b[32m255\u001b[39m predictions = \u001b[43mcall\u001b[49m\u001b[43m.\u001b[49m\u001b[43m_call_strategy_hook\u001b[49m\u001b[43m(\u001b[49m\u001b[43mtrainer\u001b[49m\u001b[43m,\u001b[49m\u001b[43m \u001b[49m\u001b[33;43m\"\u001b[39;49m\u001b[33;43mpredict_step\u001b[39;49m\u001b[33;43m\"\u001b[39;49m\u001b[43m,\u001b[49m\u001b[43m \u001b[49m\u001b[43m*\u001b[49m\u001b[43mstep_args\u001b[49m\u001b[43m)\u001b[49m\n\u001b[32m    256\u001b[39m \u001b[38;5;28;01mif\u001b[39;00m predictions \u001b[38;5;129;01mis\u001b[39;00m \u001b[38;5;28;01mNone\u001b[39;00m:\n\u001b[32m    257\u001b[39m     \u001b[38;5;28mself\u001b[39m._warning_cache.warn(\u001b[33m\"\u001b[39m\u001b[33mpredict returned None if it was on purpose, ignore this warning...\u001b[39m\u001b[33m\"\u001b[39m)\n",
      "\u001b[36mFile \u001b[39m\u001b[32m~/anaconda3/envs/nlp_env/lib/python3.11/site-packages/pytorch_lightning/trainer/call.py:329\u001b[39m, in \u001b[36m_call_strategy_hook\u001b[39m\u001b[34m(trainer, hook_name, *args, **kwargs)\u001b[39m\n\u001b[32m    326\u001b[39m     \u001b[38;5;28;01mreturn\u001b[39;00m \u001b[38;5;28;01mNone\u001b[39;00m\n\u001b[32m    328\u001b[39m \u001b[38;5;28;01mwith\u001b[39;00m trainer.profiler.profile(\u001b[33mf\u001b[39m\u001b[33m\"\u001b[39m\u001b[33m[Strategy]\u001b[39m\u001b[38;5;132;01m{\u001b[39;00mtrainer.strategy.\u001b[34m__class__\u001b[39m.\u001b[34m__name__\u001b[39m\u001b[38;5;132;01m}\u001b[39;00m\u001b[33m.\u001b[39m\u001b[38;5;132;01m{\u001b[39;00mhook_name\u001b[38;5;132;01m}\u001b[39;00m\u001b[33m\"\u001b[39m):\n\u001b[32m--> \u001b[39m\u001b[32m329\u001b[39m     output = \u001b[43mfn\u001b[49m\u001b[43m(\u001b[49m\u001b[43m*\u001b[49m\u001b[43margs\u001b[49m\u001b[43m,\u001b[49m\u001b[43m \u001b[49m\u001b[43m*\u001b[49m\u001b[43m*\u001b[49m\u001b[43mkwargs\u001b[49m\u001b[43m)\u001b[49m\n\u001b[32m    331\u001b[39m \u001b[38;5;66;03m# restore current_fx when nested context\u001b[39;00m\n\u001b[32m    332\u001b[39m pl_module._current_fx_name = prev_fx_name\n",
      "\u001b[36mFile \u001b[39m\u001b[32m~/anaconda3/envs/nlp_env/lib/python3.11/site-packages/pytorch_lightning/strategies/strategy.py:438\u001b[39m, in \u001b[36mStrategy.predict_step\u001b[39m\u001b[34m(self, *args, **kwargs)\u001b[39m\n\u001b[32m    436\u001b[39m \u001b[38;5;28;01mif\u001b[39;00m \u001b[38;5;28mself\u001b[39m.model != \u001b[38;5;28mself\u001b[39m.lightning_module:\n\u001b[32m    437\u001b[39m     \u001b[38;5;28;01mreturn\u001b[39;00m \u001b[38;5;28mself\u001b[39m._forward_redirection(\u001b[38;5;28mself\u001b[39m.model, \u001b[38;5;28mself\u001b[39m.lightning_module, \u001b[33m\"\u001b[39m\u001b[33mpredict_step\u001b[39m\u001b[33m\"\u001b[39m, *args, **kwargs)\n\u001b[32m--> \u001b[39m\u001b[32m438\u001b[39m \u001b[38;5;28;01mreturn\u001b[39;00m \u001b[38;5;28;43mself\u001b[39;49m\u001b[43m.\u001b[49m\u001b[43mlightning_module\u001b[49m\u001b[43m.\u001b[49m\u001b[43mpredict_step\u001b[49m\u001b[43m(\u001b[49m\u001b[43m*\u001b[49m\u001b[43margs\u001b[49m\u001b[43m,\u001b[49m\u001b[43m \u001b[49m\u001b[43m*\u001b[49m\u001b[43m*\u001b[49m\u001b[43mkwargs\u001b[49m\u001b[43m)\u001b[49m\n",
      "\u001b[36mFile \u001b[39m\u001b[32m~/anaconda3/envs/nlp_env/lib/python3.11/site-packages/pytorch_lightning/core/module.py:966\u001b[39m, in \u001b[36mLightningModule.predict_step\u001b[39m\u001b[34m(self, *args, **kwargs)\u001b[39m\n\u001b[32m    964\u001b[39m \u001b[38;5;66;03m# For backwards compatibility\u001b[39;00m\n\u001b[32m    965\u001b[39m batch = kwargs.get(\u001b[33m\"\u001b[39m\u001b[33mbatch\u001b[39m\u001b[33m\"\u001b[39m, args[\u001b[32m0\u001b[39m])\n\u001b[32m--> \u001b[39m\u001b[32m966\u001b[39m \u001b[38;5;28;01mreturn\u001b[39;00m \u001b[38;5;28;43mself\u001b[39;49m\u001b[43m(\u001b[49m\u001b[43mbatch\u001b[49m\u001b[43m)\u001b[49m\n",
      "\u001b[36mFile \u001b[39m\u001b[32m~/anaconda3/envs/nlp_env/lib/python3.11/site-packages/torch/nn/modules/module.py:1511\u001b[39m, in \u001b[36mModule._wrapped_call_impl\u001b[39m\u001b[34m(self, *args, **kwargs)\u001b[39m\n\u001b[32m   1509\u001b[39m     \u001b[38;5;28;01mreturn\u001b[39;00m \u001b[38;5;28mself\u001b[39m._compiled_call_impl(*args, **kwargs)  \u001b[38;5;66;03m# type: ignore[misc]\u001b[39;00m\n\u001b[32m   1510\u001b[39m \u001b[38;5;28;01melse\u001b[39;00m:\n\u001b[32m-> \u001b[39m\u001b[32m1511\u001b[39m     \u001b[38;5;28;01mreturn\u001b[39;00m \u001b[38;5;28;43mself\u001b[39;49m\u001b[43m.\u001b[49m\u001b[43m_call_impl\u001b[49m\u001b[43m(\u001b[49m\u001b[43m*\u001b[49m\u001b[43margs\u001b[49m\u001b[43m,\u001b[49m\u001b[43m \u001b[49m\u001b[43m*\u001b[49m\u001b[43m*\u001b[49m\u001b[43mkwargs\u001b[49m\u001b[43m)\u001b[49m\n",
      "\u001b[36mFile \u001b[39m\u001b[32m~/anaconda3/envs/nlp_env/lib/python3.11/site-packages/torch/nn/modules/module.py:1520\u001b[39m, in \u001b[36mModule._call_impl\u001b[39m\u001b[34m(self, *args, **kwargs)\u001b[39m\n\u001b[32m   1515\u001b[39m \u001b[38;5;66;03m# If we don't have any hooks, we want to skip the rest of the logic in\u001b[39;00m\n\u001b[32m   1516\u001b[39m \u001b[38;5;66;03m# this function, and just call forward.\u001b[39;00m\n\u001b[32m   1517\u001b[39m \u001b[38;5;28;01mif\u001b[39;00m \u001b[38;5;129;01mnot\u001b[39;00m (\u001b[38;5;28mself\u001b[39m._backward_hooks \u001b[38;5;129;01mor\u001b[39;00m \u001b[38;5;28mself\u001b[39m._backward_pre_hooks \u001b[38;5;129;01mor\u001b[39;00m \u001b[38;5;28mself\u001b[39m._forward_hooks \u001b[38;5;129;01mor\u001b[39;00m \u001b[38;5;28mself\u001b[39m._forward_pre_hooks\n\u001b[32m   1518\u001b[39m         \u001b[38;5;129;01mor\u001b[39;00m _global_backward_pre_hooks \u001b[38;5;129;01mor\u001b[39;00m _global_backward_hooks\n\u001b[32m   1519\u001b[39m         \u001b[38;5;129;01mor\u001b[39;00m _global_forward_hooks \u001b[38;5;129;01mor\u001b[39;00m _global_forward_pre_hooks):\n\u001b[32m-> \u001b[39m\u001b[32m1520\u001b[39m     \u001b[38;5;28;01mreturn\u001b[39;00m \u001b[43mforward_call\u001b[49m\u001b[43m(\u001b[49m\u001b[43m*\u001b[49m\u001b[43margs\u001b[49m\u001b[43m,\u001b[49m\u001b[43m \u001b[49m\u001b[43m*\u001b[49m\u001b[43m*\u001b[49m\u001b[43mkwargs\u001b[49m\u001b[43m)\u001b[49m\n\u001b[32m   1522\u001b[39m \u001b[38;5;28;01mtry\u001b[39;00m:\n\u001b[32m   1523\u001b[39m     result = \u001b[38;5;28;01mNone\u001b[39;00m\n",
      "\u001b[36mCell\u001b[39m\u001b[36m \u001b[39m\u001b[32mIn[25]\u001b[39m\u001b[32m, line 25\u001b[39m, in \u001b[36mWikiANNTransformerNER.forward\u001b[39m\u001b[34m(self, x, mask)\u001b[39m\n\u001b[32m     24\u001b[39m \u001b[38;5;28;01mdef\u001b[39;00m\u001b[38;5;250m \u001b[39m\u001b[34mforward\u001b[39m(\u001b[38;5;28mself\u001b[39m, x, mask=\u001b[38;5;28;01mNone\u001b[39;00m):\n\u001b[32m---> \u001b[39m\u001b[32m25\u001b[39m     embeddings = \u001b[38;5;28;43mself\u001b[39;49m\u001b[43m.\u001b[49m\u001b[43mtoken_embeddings\u001b[49m\u001b[43m(\u001b[49m\u001b[43mx\u001b[49m\u001b[43m)\u001b[49m  \u001b[38;5;66;03m# (B, L, D)\u001b[39;00m\n\u001b[32m     26\u001b[39m     attention = \u001b[38;5;28mself\u001b[39m.transformer(embeddings, mask)  \u001b[38;5;66;03m# (B, L, D)\u001b[39;00m\n\u001b[32m     27\u001b[39m     logits = \u001b[38;5;28mself\u001b[39m.classifier(attention)  \u001b[38;5;66;03m# (B, L, num_labels)\u001b[39;00m\n",
      "\u001b[36mFile \u001b[39m\u001b[32m~/anaconda3/envs/nlp_env/lib/python3.11/site-packages/torch/nn/modules/module.py:1511\u001b[39m, in \u001b[36mModule._wrapped_call_impl\u001b[39m\u001b[34m(self, *args, **kwargs)\u001b[39m\n\u001b[32m   1509\u001b[39m     \u001b[38;5;28;01mreturn\u001b[39;00m \u001b[38;5;28mself\u001b[39m._compiled_call_impl(*args, **kwargs)  \u001b[38;5;66;03m# type: ignore[misc]\u001b[39;00m\n\u001b[32m   1510\u001b[39m \u001b[38;5;28;01melse\u001b[39;00m:\n\u001b[32m-> \u001b[39m\u001b[32m1511\u001b[39m     \u001b[38;5;28;01mreturn\u001b[39;00m \u001b[38;5;28;43mself\u001b[39;49m\u001b[43m.\u001b[49m\u001b[43m_call_impl\u001b[49m\u001b[43m(\u001b[49m\u001b[43m*\u001b[49m\u001b[43margs\u001b[49m\u001b[43m,\u001b[49m\u001b[43m \u001b[49m\u001b[43m*\u001b[49m\u001b[43m*\u001b[49m\u001b[43mkwargs\u001b[49m\u001b[43m)\u001b[49m\n",
      "\u001b[36mFile \u001b[39m\u001b[32m~/anaconda3/envs/nlp_env/lib/python3.11/site-packages/torch/nn/modules/module.py:1520\u001b[39m, in \u001b[36mModule._call_impl\u001b[39m\u001b[34m(self, *args, **kwargs)\u001b[39m\n\u001b[32m   1515\u001b[39m \u001b[38;5;66;03m# If we don't have any hooks, we want to skip the rest of the logic in\u001b[39;00m\n\u001b[32m   1516\u001b[39m \u001b[38;5;66;03m# this function, and just call forward.\u001b[39;00m\n\u001b[32m   1517\u001b[39m \u001b[38;5;28;01mif\u001b[39;00m \u001b[38;5;129;01mnot\u001b[39;00m (\u001b[38;5;28mself\u001b[39m._backward_hooks \u001b[38;5;129;01mor\u001b[39;00m \u001b[38;5;28mself\u001b[39m._backward_pre_hooks \u001b[38;5;129;01mor\u001b[39;00m \u001b[38;5;28mself\u001b[39m._forward_hooks \u001b[38;5;129;01mor\u001b[39;00m \u001b[38;5;28mself\u001b[39m._forward_pre_hooks\n\u001b[32m   1518\u001b[39m         \u001b[38;5;129;01mor\u001b[39;00m _global_backward_pre_hooks \u001b[38;5;129;01mor\u001b[39;00m _global_backward_hooks\n\u001b[32m   1519\u001b[39m         \u001b[38;5;129;01mor\u001b[39;00m _global_forward_hooks \u001b[38;5;129;01mor\u001b[39;00m _global_forward_pre_hooks):\n\u001b[32m-> \u001b[39m\u001b[32m1520\u001b[39m     \u001b[38;5;28;01mreturn\u001b[39;00m \u001b[43mforward_call\u001b[49m\u001b[43m(\u001b[49m\u001b[43m*\u001b[49m\u001b[43margs\u001b[49m\u001b[43m,\u001b[49m\u001b[43m \u001b[49m\u001b[43m*\u001b[49m\u001b[43m*\u001b[49m\u001b[43mkwargs\u001b[49m\u001b[43m)\u001b[49m\n\u001b[32m   1522\u001b[39m \u001b[38;5;28;01mtry\u001b[39;00m:\n\u001b[32m   1523\u001b[39m     result = \u001b[38;5;28;01mNone\u001b[39;00m\n",
      "\u001b[36mCell\u001b[39m\u001b[36m \u001b[39m\u001b[32mIn[13]\u001b[39m\u001b[32m, line 68\u001b[39m, in \u001b[36mTokenAndPosEmbedding.forward\u001b[39m\u001b[34m(self, x)\u001b[39m\n\u001b[32m     67\u001b[39m \u001b[38;5;28;01mdef\u001b[39;00m\u001b[38;5;250m \u001b[39m\u001b[34mforward\u001b[39m(\u001b[38;5;28mself\u001b[39m, x):\n\u001b[32m---> \u001b[39m\u001b[32m68\u001b[39m     token_emb = \u001b[38;5;28;43mself\u001b[39;49m\u001b[43m.\u001b[49m\u001b[43mtoken_emb\u001b[49m\u001b[43m(\u001b[49m\u001b[43mx\u001b[49m\u001b[43m)\u001b[49m\n\u001b[32m     69\u001b[39m     \u001b[38;5;28;01mreturn\u001b[39;00m \u001b[38;5;28mself\u001b[39m.pos_emb(token_emb)\n",
      "\u001b[36mFile \u001b[39m\u001b[32m~/anaconda3/envs/nlp_env/lib/python3.11/site-packages/torch/nn/modules/module.py:1511\u001b[39m, in \u001b[36mModule._wrapped_call_impl\u001b[39m\u001b[34m(self, *args, **kwargs)\u001b[39m\n\u001b[32m   1509\u001b[39m     \u001b[38;5;28;01mreturn\u001b[39;00m \u001b[38;5;28mself\u001b[39m._compiled_call_impl(*args, **kwargs)  \u001b[38;5;66;03m# type: ignore[misc]\u001b[39;00m\n\u001b[32m   1510\u001b[39m \u001b[38;5;28;01melse\u001b[39;00m:\n\u001b[32m-> \u001b[39m\u001b[32m1511\u001b[39m     \u001b[38;5;28;01mreturn\u001b[39;00m \u001b[38;5;28;43mself\u001b[39;49m\u001b[43m.\u001b[49m\u001b[43m_call_impl\u001b[49m\u001b[43m(\u001b[49m\u001b[43m*\u001b[49m\u001b[43margs\u001b[49m\u001b[43m,\u001b[49m\u001b[43m \u001b[49m\u001b[43m*\u001b[49m\u001b[43m*\u001b[49m\u001b[43mkwargs\u001b[49m\u001b[43m)\u001b[49m\n",
      "\u001b[36mFile \u001b[39m\u001b[32m~/anaconda3/envs/nlp_env/lib/python3.11/site-packages/torch/nn/modules/module.py:1520\u001b[39m, in \u001b[36mModule._call_impl\u001b[39m\u001b[34m(self, *args, **kwargs)\u001b[39m\n\u001b[32m   1515\u001b[39m \u001b[38;5;66;03m# If we don't have any hooks, we want to skip the rest of the logic in\u001b[39;00m\n\u001b[32m   1516\u001b[39m \u001b[38;5;66;03m# this function, and just call forward.\u001b[39;00m\n\u001b[32m   1517\u001b[39m \u001b[38;5;28;01mif\u001b[39;00m \u001b[38;5;129;01mnot\u001b[39;00m (\u001b[38;5;28mself\u001b[39m._backward_hooks \u001b[38;5;129;01mor\u001b[39;00m \u001b[38;5;28mself\u001b[39m._backward_pre_hooks \u001b[38;5;129;01mor\u001b[39;00m \u001b[38;5;28mself\u001b[39m._forward_hooks \u001b[38;5;129;01mor\u001b[39;00m \u001b[38;5;28mself\u001b[39m._forward_pre_hooks\n\u001b[32m   1518\u001b[39m         \u001b[38;5;129;01mor\u001b[39;00m _global_backward_pre_hooks \u001b[38;5;129;01mor\u001b[39;00m _global_backward_hooks\n\u001b[32m   1519\u001b[39m         \u001b[38;5;129;01mor\u001b[39;00m _global_forward_hooks \u001b[38;5;129;01mor\u001b[39;00m _global_forward_pre_hooks):\n\u001b[32m-> \u001b[39m\u001b[32m1520\u001b[39m     \u001b[38;5;28;01mreturn\u001b[39;00m \u001b[43mforward_call\u001b[49m\u001b[43m(\u001b[49m\u001b[43m*\u001b[49m\u001b[43margs\u001b[49m\u001b[43m,\u001b[49m\u001b[43m \u001b[49m\u001b[43m*\u001b[49m\u001b[43m*\u001b[49m\u001b[43mkwargs\u001b[49m\u001b[43m)\u001b[49m\n\u001b[32m   1522\u001b[39m \u001b[38;5;28;01mtry\u001b[39;00m:\n\u001b[32m   1523\u001b[39m     result = \u001b[38;5;28;01mNone\u001b[39;00m\n",
      "\u001b[36mFile \u001b[39m\u001b[32m~/anaconda3/envs/nlp_env/lib/python3.11/site-packages/torch/nn/modules/sparse.py:163\u001b[39m, in \u001b[36mEmbedding.forward\u001b[39m\u001b[34m(self, input)\u001b[39m\n\u001b[32m    162\u001b[39m \u001b[38;5;28;01mdef\u001b[39;00m\u001b[38;5;250m \u001b[39m\u001b[34mforward\u001b[39m(\u001b[38;5;28mself\u001b[39m, \u001b[38;5;28minput\u001b[39m: Tensor) -> Tensor:\n\u001b[32m--> \u001b[39m\u001b[32m163\u001b[39m     \u001b[38;5;28;01mreturn\u001b[39;00m \u001b[43mF\u001b[49m\u001b[43m.\u001b[49m\u001b[43membedding\u001b[49m\u001b[43m(\u001b[49m\n\u001b[32m    164\u001b[39m \u001b[43m        \u001b[49m\u001b[38;5;28;43minput\u001b[39;49m\u001b[43m,\u001b[49m\u001b[43m \u001b[49m\u001b[38;5;28;43mself\u001b[39;49m\u001b[43m.\u001b[49m\u001b[43mweight\u001b[49m\u001b[43m,\u001b[49m\u001b[43m \u001b[49m\u001b[38;5;28;43mself\u001b[39;49m\u001b[43m.\u001b[49m\u001b[43mpadding_idx\u001b[49m\u001b[43m,\u001b[49m\u001b[43m \u001b[49m\u001b[38;5;28;43mself\u001b[39;49m\u001b[43m.\u001b[49m\u001b[43mmax_norm\u001b[49m\u001b[43m,\u001b[49m\n\u001b[32m    165\u001b[39m \u001b[43m        \u001b[49m\u001b[38;5;28;43mself\u001b[39;49m\u001b[43m.\u001b[49m\u001b[43mnorm_type\u001b[49m\u001b[43m,\u001b[49m\u001b[43m \u001b[49m\u001b[38;5;28;43mself\u001b[39;49m\u001b[43m.\u001b[49m\u001b[43mscale_grad_by_freq\u001b[49m\u001b[43m,\u001b[49m\u001b[43m \u001b[49m\u001b[38;5;28;43mself\u001b[39;49m\u001b[43m.\u001b[49m\u001b[43msparse\u001b[49m\u001b[43m)\u001b[49m\n",
      "\u001b[36mFile \u001b[39m\u001b[32m~/anaconda3/envs/nlp_env/lib/python3.11/site-packages/torch/nn/functional.py:2237\u001b[39m, in \u001b[36membedding\u001b[39m\u001b[34m(input, weight, padding_idx, max_norm, norm_type, scale_grad_by_freq, sparse)\u001b[39m\n\u001b[32m   2231\u001b[39m     \u001b[38;5;66;03m# Note [embedding_renorm set_grad_enabled]\u001b[39;00m\n\u001b[32m   2232\u001b[39m     \u001b[38;5;66;03m# XXX: equivalent to\u001b[39;00m\n\u001b[32m   2233\u001b[39m     \u001b[38;5;66;03m# with torch.no_grad():\u001b[39;00m\n\u001b[32m   2234\u001b[39m     \u001b[38;5;66;03m#   torch.embedding_renorm_\u001b[39;00m\n\u001b[32m   2235\u001b[39m     \u001b[38;5;66;03m# remove once script supports set_grad_enabled\u001b[39;00m\n\u001b[32m   2236\u001b[39m     _no_grad_embedding_renorm_(weight, \u001b[38;5;28minput\u001b[39m, max_norm, norm_type)\n\u001b[32m-> \u001b[39m\u001b[32m2237\u001b[39m \u001b[38;5;28;01mreturn\u001b[39;00m \u001b[43mtorch\u001b[49m\u001b[43m.\u001b[49m\u001b[43membedding\u001b[49m\u001b[43m(\u001b[49m\u001b[43mweight\u001b[49m\u001b[43m,\u001b[49m\u001b[43m \u001b[49m\u001b[38;5;28;43minput\u001b[39;49m\u001b[43m,\u001b[49m\u001b[43m \u001b[49m\u001b[43mpadding_idx\u001b[49m\u001b[43m,\u001b[49m\u001b[43m \u001b[49m\u001b[43mscale_grad_by_freq\u001b[49m\u001b[43m,\u001b[49m\u001b[43m \u001b[49m\u001b[43msparse\u001b[49m\u001b[43m)\u001b[49m\n",
      "\u001b[31mTypeError\u001b[39m: embedding(): argument 'indices' (position 2) must be Tensor, not dict"
     ]
    }
   ],
   "source": [
    "predictions = trainer.predict(model, test_loader)\n",
    "predictions = torch.cat(predictions, dim=0)\n",
    "predictions = torch.argmax(predictions, dim=-1)\n",
    "predictions = [ner_dataset.id_2_class_map[pred] for pred in predictions.numpy()]"
   ]
  },
  {
   "cell_type": "code",
   "execution_count": 31,
   "metadata": {},
   "outputs": [
    {
     "name": "stderr",
     "output_type": "stream",
     "text": [
      "LOCAL_RANK: 0 - CUDA_VISIBLE_DEVICES: [0]\n"
     ]
    },
    {
     "name": "stdout",
     "output_type": "stream",
     "text": [
      "Predicting DataLoader 0:   0%|          | 0/500 [06:57<?, ?it/s]\n"
     ]
    },
    {
     "ename": "TypeError",
     "evalue": "embedding(): argument 'indices' (position 2) must be Tensor, not dict",
     "output_type": "error",
     "traceback": [
      "\u001b[31m---------------------------------------------------------------------------\u001b[39m",
      "\u001b[31mTypeError\u001b[39m                                 Traceback (most recent call last)",
      "\u001b[36mCell\u001b[39m\u001b[36m \u001b[39m\u001b[32mIn[31]\u001b[39m\u001b[32m, line 2\u001b[39m\n\u001b[32m      1\u001b[39m \u001b[38;5;66;03m# 1. Hacer predicciones\u001b[39;00m\n\u001b[32m----> \u001b[39m\u001b[32m2\u001b[39m predictions = \u001b[43mtrainer\u001b[49m\u001b[43m.\u001b[49m\u001b[43mpredict\u001b[49m\u001b[43m(\u001b[49m\u001b[43mmodel\u001b[49m\u001b[43m,\u001b[49m\u001b[43m \u001b[49m\u001b[43mtest_loader\u001b[49m\u001b[43m)\u001b[49m  \u001b[38;5;66;03m# lista de batches\u001b[39;00m\n\u001b[32m      4\u001b[39m \u001b[38;5;66;03m# 2. Concatenar todos los batches\u001b[39;00m\n\u001b[32m      5\u001b[39m predictions = torch.cat(predictions, dim=\u001b[32m0\u001b[39m)  \u001b[38;5;66;03m# shape (num_examples, seq_len, num_labels)\u001b[39;00m\n",
      "\u001b[36mFile \u001b[39m\u001b[32m~/anaconda3/envs/nlp_env/lib/python3.11/site-packages/pytorch_lightning/trainer/trainer.py:886\u001b[39m, in \u001b[36mTrainer.predict\u001b[39m\u001b[34m(self, model, dataloaders, datamodule, return_predictions, ckpt_path)\u001b[39m\n\u001b[32m    884\u001b[39m \u001b[38;5;28mself\u001b[39m.state.status = TrainerStatus.RUNNING\n\u001b[32m    885\u001b[39m \u001b[38;5;28mself\u001b[39m.predicting = \u001b[38;5;28;01mTrue\u001b[39;00m\n\u001b[32m--> \u001b[39m\u001b[32m886\u001b[39m \u001b[38;5;28;01mreturn\u001b[39;00m \u001b[43mcall\u001b[49m\u001b[43m.\u001b[49m\u001b[43m_call_and_handle_interrupt\u001b[49m\u001b[43m(\u001b[49m\n\u001b[32m    887\u001b[39m \u001b[43m    \u001b[49m\u001b[38;5;28;43mself\u001b[39;49m\u001b[43m,\u001b[49m\u001b[43m \u001b[49m\u001b[38;5;28;43mself\u001b[39;49m\u001b[43m.\u001b[49m\u001b[43m_predict_impl\u001b[49m\u001b[43m,\u001b[49m\u001b[43m \u001b[49m\u001b[43mmodel\u001b[49m\u001b[43m,\u001b[49m\u001b[43m \u001b[49m\u001b[43mdataloaders\u001b[49m\u001b[43m,\u001b[49m\u001b[43m \u001b[49m\u001b[43mdatamodule\u001b[49m\u001b[43m,\u001b[49m\u001b[43m \u001b[49m\u001b[43mreturn_predictions\u001b[49m\u001b[43m,\u001b[49m\u001b[43m \u001b[49m\u001b[43mckpt_path\u001b[49m\n\u001b[32m    888\u001b[39m \u001b[43m\u001b[49m\u001b[43m)\u001b[49m\n",
      "\u001b[36mFile \u001b[39m\u001b[32m~/anaconda3/envs/nlp_env/lib/python3.11/site-packages/pytorch_lightning/trainer/call.py:49\u001b[39m, in \u001b[36m_call_and_handle_interrupt\u001b[39m\u001b[34m(trainer, trainer_fn, *args, **kwargs)\u001b[39m\n\u001b[32m     47\u001b[39m     \u001b[38;5;28;01mif\u001b[39;00m trainer.strategy.launcher \u001b[38;5;129;01mis\u001b[39;00m \u001b[38;5;129;01mnot\u001b[39;00m \u001b[38;5;28;01mNone\u001b[39;00m:\n\u001b[32m     48\u001b[39m         \u001b[38;5;28;01mreturn\u001b[39;00m trainer.strategy.launcher.launch(trainer_fn, *args, trainer=trainer, **kwargs)\n\u001b[32m---> \u001b[39m\u001b[32m49\u001b[39m     \u001b[38;5;28;01mreturn\u001b[39;00m \u001b[43mtrainer_fn\u001b[49m\u001b[43m(\u001b[49m\u001b[43m*\u001b[49m\u001b[43margs\u001b[49m\u001b[43m,\u001b[49m\u001b[43m \u001b[49m\u001b[43m*\u001b[49m\u001b[43m*\u001b[49m\u001b[43mkwargs\u001b[49m\u001b[43m)\u001b[49m\n\u001b[32m     51\u001b[39m \u001b[38;5;28;01mexcept\u001b[39;00m _TunerExitException:\n\u001b[32m     52\u001b[39m     _call_teardown_hook(trainer)\n",
      "\u001b[36mFile \u001b[39m\u001b[32m~/anaconda3/envs/nlp_env/lib/python3.11/site-packages/pytorch_lightning/trainer/trainer.py:927\u001b[39m, in \u001b[36mTrainer._predict_impl\u001b[39m\u001b[34m(self, model, dataloaders, datamodule, return_predictions, ckpt_path)\u001b[39m\n\u001b[32m    923\u001b[39m     download_model_from_registry(ckpt_path, \u001b[38;5;28mself\u001b[39m)\n\u001b[32m    924\u001b[39m ckpt_path = \u001b[38;5;28mself\u001b[39m._checkpoint_connector._select_ckpt_path(\n\u001b[32m    925\u001b[39m     \u001b[38;5;28mself\u001b[39m.state.fn, ckpt_path, model_provided=model_provided, model_connected=\u001b[38;5;28mself\u001b[39m.lightning_module \u001b[38;5;129;01mis\u001b[39;00m \u001b[38;5;129;01mnot\u001b[39;00m \u001b[38;5;28;01mNone\u001b[39;00m\n\u001b[32m    926\u001b[39m )\n\u001b[32m--> \u001b[39m\u001b[32m927\u001b[39m results = \u001b[38;5;28;43mself\u001b[39;49m\u001b[43m.\u001b[49m\u001b[43m_run\u001b[49m\u001b[43m(\u001b[49m\u001b[43mmodel\u001b[49m\u001b[43m,\u001b[49m\u001b[43m \u001b[49m\u001b[43mckpt_path\u001b[49m\u001b[43m=\u001b[49m\u001b[43mckpt_path\u001b[49m\u001b[43m)\u001b[49m\n\u001b[32m    929\u001b[39m \u001b[38;5;28;01massert\u001b[39;00m \u001b[38;5;28mself\u001b[39m.state.stopped\n\u001b[32m    930\u001b[39m \u001b[38;5;28mself\u001b[39m.predicting = \u001b[38;5;28;01mFalse\u001b[39;00m\n",
      "\u001b[36mFile \u001b[39m\u001b[32m~/anaconda3/envs/nlp_env/lib/python3.11/site-packages/pytorch_lightning/trainer/trainer.py:1011\u001b[39m, in \u001b[36mTrainer._run\u001b[39m\u001b[34m(self, model, ckpt_path)\u001b[39m\n\u001b[32m   1006\u001b[39m \u001b[38;5;28mself\u001b[39m._signal_connector.register_signal_handlers()\n\u001b[32m   1008\u001b[39m \u001b[38;5;66;03m# ----------------------------\u001b[39;00m\n\u001b[32m   1009\u001b[39m \u001b[38;5;66;03m# RUN THE TRAINER\u001b[39;00m\n\u001b[32m   1010\u001b[39m \u001b[38;5;66;03m# ----------------------------\u001b[39;00m\n\u001b[32m-> \u001b[39m\u001b[32m1011\u001b[39m results = \u001b[38;5;28;43mself\u001b[39;49m\u001b[43m.\u001b[49m\u001b[43m_run_stage\u001b[49m\u001b[43m(\u001b[49m\u001b[43m)\u001b[49m\n\u001b[32m   1013\u001b[39m \u001b[38;5;66;03m# ----------------------------\u001b[39;00m\n\u001b[32m   1014\u001b[39m \u001b[38;5;66;03m# POST-Training CLEAN UP\u001b[39;00m\n\u001b[32m   1015\u001b[39m \u001b[38;5;66;03m# ----------------------------\u001b[39;00m\n\u001b[32m   1016\u001b[39m log.debug(\u001b[33mf\u001b[39m\u001b[33m\"\u001b[39m\u001b[38;5;132;01m{\u001b[39;00m\u001b[38;5;28mself\u001b[39m.\u001b[34m__class__\u001b[39m.\u001b[34m__name__\u001b[39m\u001b[38;5;132;01m}\u001b[39;00m\u001b[33m: trainer tearing down\u001b[39m\u001b[33m\"\u001b[39m)\n",
      "\u001b[36mFile \u001b[39m\u001b[32m~/anaconda3/envs/nlp_env/lib/python3.11/site-packages/pytorch_lightning/trainer/trainer.py:1050\u001b[39m, in \u001b[36mTrainer._run_stage\u001b[39m\u001b[34m(self)\u001b[39m\n\u001b[32m   1048\u001b[39m     \u001b[38;5;28;01mreturn\u001b[39;00m \u001b[38;5;28mself\u001b[39m._evaluation_loop.run()\n\u001b[32m   1049\u001b[39m \u001b[38;5;28;01mif\u001b[39;00m \u001b[38;5;28mself\u001b[39m.predicting:\n\u001b[32m-> \u001b[39m\u001b[32m1050\u001b[39m     \u001b[38;5;28;01mreturn\u001b[39;00m \u001b[38;5;28;43mself\u001b[39;49m\u001b[43m.\u001b[49m\u001b[43mpredict_loop\u001b[49m\u001b[43m.\u001b[49m\u001b[43mrun\u001b[49m\u001b[43m(\u001b[49m\u001b[43m)\u001b[49m\n\u001b[32m   1051\u001b[39m \u001b[38;5;28;01mif\u001b[39;00m \u001b[38;5;28mself\u001b[39m.training:\n\u001b[32m   1052\u001b[39m     \u001b[38;5;28;01mwith\u001b[39;00m isolate_rng():\n",
      "\u001b[36mFile \u001b[39m\u001b[32m~/anaconda3/envs/nlp_env/lib/python3.11/site-packages/pytorch_lightning/loops/utilities.py:179\u001b[39m, in \u001b[36m_no_grad_context.<locals>._decorator\u001b[39m\u001b[34m(self, *args, **kwargs)\u001b[39m\n\u001b[32m    177\u001b[39m     context_manager = torch.no_grad\n\u001b[32m    178\u001b[39m \u001b[38;5;28;01mwith\u001b[39;00m context_manager():\n\u001b[32m--> \u001b[39m\u001b[32m179\u001b[39m     \u001b[38;5;28;01mreturn\u001b[39;00m \u001b[43mloop_run\u001b[49m\u001b[43m(\u001b[49m\u001b[38;5;28;43mself\u001b[39;49m\u001b[43m,\u001b[49m\u001b[43m \u001b[49m\u001b[43m*\u001b[49m\u001b[43margs\u001b[49m\u001b[43m,\u001b[49m\u001b[43m \u001b[49m\u001b[43m*\u001b[49m\u001b[43m*\u001b[49m\u001b[43mkwargs\u001b[49m\u001b[43m)\u001b[49m\n",
      "\u001b[36mFile \u001b[39m\u001b[32m~/anaconda3/envs/nlp_env/lib/python3.11/site-packages/pytorch_lightning/loops/prediction_loop.py:125\u001b[39m, in \u001b[36m_PredictionLoop.run\u001b[39m\u001b[34m(self)\u001b[39m\n\u001b[32m    123\u001b[39m     \u001b[38;5;28mself\u001b[39m.batch_progress.is_last_batch = data_fetcher.done\n\u001b[32m    124\u001b[39m     \u001b[38;5;66;03m# run step hooks\u001b[39;00m\n\u001b[32m--> \u001b[39m\u001b[32m125\u001b[39m     \u001b[38;5;28;43mself\u001b[39;49m\u001b[43m.\u001b[49m\u001b[43m_predict_step\u001b[49m\u001b[43m(\u001b[49m\u001b[43mbatch\u001b[49m\u001b[43m,\u001b[49m\u001b[43m \u001b[49m\u001b[43mbatch_idx\u001b[49m\u001b[43m,\u001b[49m\u001b[43m \u001b[49m\u001b[43mdataloader_idx\u001b[49m\u001b[43m,\u001b[49m\u001b[43m \u001b[49m\u001b[43mdataloader_iter\u001b[49m\u001b[43m)\u001b[49m\n\u001b[32m    126\u001b[39m \u001b[38;5;28;01mexcept\u001b[39;00m \u001b[38;5;167;01mStopIteration\u001b[39;00m:\n\u001b[32m    127\u001b[39m     \u001b[38;5;66;03m# this needs to wrap the `*_step` call too (not just `next`) for `dataloader_iter` support\u001b[39;00m\n\u001b[32m    128\u001b[39m     \u001b[38;5;28;01mbreak\u001b[39;00m\n",
      "\u001b[36mFile \u001b[39m\u001b[32m~/anaconda3/envs/nlp_env/lib/python3.11/site-packages/pytorch_lightning/loops/prediction_loop.py:255\u001b[39m, in \u001b[36m_PredictionLoop._predict_step\u001b[39m\u001b[34m(self, batch, batch_idx, dataloader_idx, dataloader_iter)\u001b[39m\n\u001b[32m    249\u001b[39m \u001b[38;5;66;03m# configure step_kwargs\u001b[39;00m\n\u001b[32m    250\u001b[39m step_args = (\n\u001b[32m    251\u001b[39m     \u001b[38;5;28mself\u001b[39m._build_step_args_from_hook_kwargs(hook_kwargs, \u001b[33m\"\u001b[39m\u001b[33mpredict_step\u001b[39m\u001b[33m\"\u001b[39m)\n\u001b[32m    252\u001b[39m     \u001b[38;5;28;01mif\u001b[39;00m \u001b[38;5;129;01mnot\u001b[39;00m using_dataloader_iter\n\u001b[32m    253\u001b[39m     \u001b[38;5;28;01melse\u001b[39;00m (dataloader_iter,)\n\u001b[32m    254\u001b[39m )\n\u001b[32m--> \u001b[39m\u001b[32m255\u001b[39m predictions = \u001b[43mcall\u001b[49m\u001b[43m.\u001b[49m\u001b[43m_call_strategy_hook\u001b[49m\u001b[43m(\u001b[49m\u001b[43mtrainer\u001b[49m\u001b[43m,\u001b[49m\u001b[43m \u001b[49m\u001b[33;43m\"\u001b[39;49m\u001b[33;43mpredict_step\u001b[39;49m\u001b[33;43m\"\u001b[39;49m\u001b[43m,\u001b[49m\u001b[43m \u001b[49m\u001b[43m*\u001b[49m\u001b[43mstep_args\u001b[49m\u001b[43m)\u001b[49m\n\u001b[32m    256\u001b[39m \u001b[38;5;28;01mif\u001b[39;00m predictions \u001b[38;5;129;01mis\u001b[39;00m \u001b[38;5;28;01mNone\u001b[39;00m:\n\u001b[32m    257\u001b[39m     \u001b[38;5;28mself\u001b[39m._warning_cache.warn(\u001b[33m\"\u001b[39m\u001b[33mpredict returned None if it was on purpose, ignore this warning...\u001b[39m\u001b[33m\"\u001b[39m)\n",
      "\u001b[36mFile \u001b[39m\u001b[32m~/anaconda3/envs/nlp_env/lib/python3.11/site-packages/pytorch_lightning/trainer/call.py:329\u001b[39m, in \u001b[36m_call_strategy_hook\u001b[39m\u001b[34m(trainer, hook_name, *args, **kwargs)\u001b[39m\n\u001b[32m    326\u001b[39m     \u001b[38;5;28;01mreturn\u001b[39;00m \u001b[38;5;28;01mNone\u001b[39;00m\n\u001b[32m    328\u001b[39m \u001b[38;5;28;01mwith\u001b[39;00m trainer.profiler.profile(\u001b[33mf\u001b[39m\u001b[33m\"\u001b[39m\u001b[33m[Strategy]\u001b[39m\u001b[38;5;132;01m{\u001b[39;00mtrainer.strategy.\u001b[34m__class__\u001b[39m.\u001b[34m__name__\u001b[39m\u001b[38;5;132;01m}\u001b[39;00m\u001b[33m.\u001b[39m\u001b[38;5;132;01m{\u001b[39;00mhook_name\u001b[38;5;132;01m}\u001b[39;00m\u001b[33m\"\u001b[39m):\n\u001b[32m--> \u001b[39m\u001b[32m329\u001b[39m     output = \u001b[43mfn\u001b[49m\u001b[43m(\u001b[49m\u001b[43m*\u001b[49m\u001b[43margs\u001b[49m\u001b[43m,\u001b[49m\u001b[43m \u001b[49m\u001b[43m*\u001b[49m\u001b[43m*\u001b[49m\u001b[43mkwargs\u001b[49m\u001b[43m)\u001b[49m\n\u001b[32m    331\u001b[39m \u001b[38;5;66;03m# restore current_fx when nested context\u001b[39;00m\n\u001b[32m    332\u001b[39m pl_module._current_fx_name = prev_fx_name\n",
      "\u001b[36mFile \u001b[39m\u001b[32m~/anaconda3/envs/nlp_env/lib/python3.11/site-packages/pytorch_lightning/strategies/strategy.py:438\u001b[39m, in \u001b[36mStrategy.predict_step\u001b[39m\u001b[34m(self, *args, **kwargs)\u001b[39m\n\u001b[32m    436\u001b[39m \u001b[38;5;28;01mif\u001b[39;00m \u001b[38;5;28mself\u001b[39m.model != \u001b[38;5;28mself\u001b[39m.lightning_module:\n\u001b[32m    437\u001b[39m     \u001b[38;5;28;01mreturn\u001b[39;00m \u001b[38;5;28mself\u001b[39m._forward_redirection(\u001b[38;5;28mself\u001b[39m.model, \u001b[38;5;28mself\u001b[39m.lightning_module, \u001b[33m\"\u001b[39m\u001b[33mpredict_step\u001b[39m\u001b[33m\"\u001b[39m, *args, **kwargs)\n\u001b[32m--> \u001b[39m\u001b[32m438\u001b[39m \u001b[38;5;28;01mreturn\u001b[39;00m \u001b[38;5;28;43mself\u001b[39;49m\u001b[43m.\u001b[49m\u001b[43mlightning_module\u001b[49m\u001b[43m.\u001b[49m\u001b[43mpredict_step\u001b[49m\u001b[43m(\u001b[49m\u001b[43m*\u001b[49m\u001b[43margs\u001b[49m\u001b[43m,\u001b[49m\u001b[43m \u001b[49m\u001b[43m*\u001b[49m\u001b[43m*\u001b[49m\u001b[43mkwargs\u001b[49m\u001b[43m)\u001b[49m\n",
      "\u001b[36mFile \u001b[39m\u001b[32m~/anaconda3/envs/nlp_env/lib/python3.11/site-packages/pytorch_lightning/core/module.py:966\u001b[39m, in \u001b[36mLightningModule.predict_step\u001b[39m\u001b[34m(self, *args, **kwargs)\u001b[39m\n\u001b[32m    964\u001b[39m \u001b[38;5;66;03m# For backwards compatibility\u001b[39;00m\n\u001b[32m    965\u001b[39m batch = kwargs.get(\u001b[33m\"\u001b[39m\u001b[33mbatch\u001b[39m\u001b[33m\"\u001b[39m, args[\u001b[32m0\u001b[39m])\n\u001b[32m--> \u001b[39m\u001b[32m966\u001b[39m \u001b[38;5;28;01mreturn\u001b[39;00m \u001b[38;5;28;43mself\u001b[39;49m\u001b[43m(\u001b[49m\u001b[43mbatch\u001b[49m\u001b[43m)\u001b[49m\n",
      "\u001b[36mFile \u001b[39m\u001b[32m~/anaconda3/envs/nlp_env/lib/python3.11/site-packages/torch/nn/modules/module.py:1511\u001b[39m, in \u001b[36mModule._wrapped_call_impl\u001b[39m\u001b[34m(self, *args, **kwargs)\u001b[39m\n\u001b[32m   1509\u001b[39m     \u001b[38;5;28;01mreturn\u001b[39;00m \u001b[38;5;28mself\u001b[39m._compiled_call_impl(*args, **kwargs)  \u001b[38;5;66;03m# type: ignore[misc]\u001b[39;00m\n\u001b[32m   1510\u001b[39m \u001b[38;5;28;01melse\u001b[39;00m:\n\u001b[32m-> \u001b[39m\u001b[32m1511\u001b[39m     \u001b[38;5;28;01mreturn\u001b[39;00m \u001b[38;5;28;43mself\u001b[39;49m\u001b[43m.\u001b[49m\u001b[43m_call_impl\u001b[49m\u001b[43m(\u001b[49m\u001b[43m*\u001b[49m\u001b[43margs\u001b[49m\u001b[43m,\u001b[49m\u001b[43m \u001b[49m\u001b[43m*\u001b[49m\u001b[43m*\u001b[49m\u001b[43mkwargs\u001b[49m\u001b[43m)\u001b[49m\n",
      "\u001b[36mFile \u001b[39m\u001b[32m~/anaconda3/envs/nlp_env/lib/python3.11/site-packages/torch/nn/modules/module.py:1520\u001b[39m, in \u001b[36mModule._call_impl\u001b[39m\u001b[34m(self, *args, **kwargs)\u001b[39m\n\u001b[32m   1515\u001b[39m \u001b[38;5;66;03m# If we don't have any hooks, we want to skip the rest of the logic in\u001b[39;00m\n\u001b[32m   1516\u001b[39m \u001b[38;5;66;03m# this function, and just call forward.\u001b[39;00m\n\u001b[32m   1517\u001b[39m \u001b[38;5;28;01mif\u001b[39;00m \u001b[38;5;129;01mnot\u001b[39;00m (\u001b[38;5;28mself\u001b[39m._backward_hooks \u001b[38;5;129;01mor\u001b[39;00m \u001b[38;5;28mself\u001b[39m._backward_pre_hooks \u001b[38;5;129;01mor\u001b[39;00m \u001b[38;5;28mself\u001b[39m._forward_hooks \u001b[38;5;129;01mor\u001b[39;00m \u001b[38;5;28mself\u001b[39m._forward_pre_hooks\n\u001b[32m   1518\u001b[39m         \u001b[38;5;129;01mor\u001b[39;00m _global_backward_pre_hooks \u001b[38;5;129;01mor\u001b[39;00m _global_backward_hooks\n\u001b[32m   1519\u001b[39m         \u001b[38;5;129;01mor\u001b[39;00m _global_forward_hooks \u001b[38;5;129;01mor\u001b[39;00m _global_forward_pre_hooks):\n\u001b[32m-> \u001b[39m\u001b[32m1520\u001b[39m     \u001b[38;5;28;01mreturn\u001b[39;00m \u001b[43mforward_call\u001b[49m\u001b[43m(\u001b[49m\u001b[43m*\u001b[49m\u001b[43margs\u001b[49m\u001b[43m,\u001b[49m\u001b[43m \u001b[49m\u001b[43m*\u001b[49m\u001b[43m*\u001b[49m\u001b[43mkwargs\u001b[49m\u001b[43m)\u001b[49m\n\u001b[32m   1522\u001b[39m \u001b[38;5;28;01mtry\u001b[39;00m:\n\u001b[32m   1523\u001b[39m     result = \u001b[38;5;28;01mNone\u001b[39;00m\n",
      "\u001b[36mCell\u001b[39m\u001b[36m \u001b[39m\u001b[32mIn[25]\u001b[39m\u001b[32m, line 25\u001b[39m, in \u001b[36mWikiANNTransformerNER.forward\u001b[39m\u001b[34m(self, x, mask)\u001b[39m\n\u001b[32m     24\u001b[39m \u001b[38;5;28;01mdef\u001b[39;00m\u001b[38;5;250m \u001b[39m\u001b[34mforward\u001b[39m(\u001b[38;5;28mself\u001b[39m, x, mask=\u001b[38;5;28;01mNone\u001b[39;00m):\n\u001b[32m---> \u001b[39m\u001b[32m25\u001b[39m     embeddings = \u001b[38;5;28;43mself\u001b[39;49m\u001b[43m.\u001b[49m\u001b[43mtoken_embeddings\u001b[49m\u001b[43m(\u001b[49m\u001b[43mx\u001b[49m\u001b[43m)\u001b[49m  \u001b[38;5;66;03m# (B, L, D)\u001b[39;00m\n\u001b[32m     26\u001b[39m     attention = \u001b[38;5;28mself\u001b[39m.transformer(embeddings, mask)  \u001b[38;5;66;03m# (B, L, D)\u001b[39;00m\n\u001b[32m     27\u001b[39m     logits = \u001b[38;5;28mself\u001b[39m.classifier(attention)  \u001b[38;5;66;03m# (B, L, num_labels)\u001b[39;00m\n",
      "\u001b[36mFile \u001b[39m\u001b[32m~/anaconda3/envs/nlp_env/lib/python3.11/site-packages/torch/nn/modules/module.py:1511\u001b[39m, in \u001b[36mModule._wrapped_call_impl\u001b[39m\u001b[34m(self, *args, **kwargs)\u001b[39m\n\u001b[32m   1509\u001b[39m     \u001b[38;5;28;01mreturn\u001b[39;00m \u001b[38;5;28mself\u001b[39m._compiled_call_impl(*args, **kwargs)  \u001b[38;5;66;03m# type: ignore[misc]\u001b[39;00m\n\u001b[32m   1510\u001b[39m \u001b[38;5;28;01melse\u001b[39;00m:\n\u001b[32m-> \u001b[39m\u001b[32m1511\u001b[39m     \u001b[38;5;28;01mreturn\u001b[39;00m \u001b[38;5;28;43mself\u001b[39;49m\u001b[43m.\u001b[49m\u001b[43m_call_impl\u001b[49m\u001b[43m(\u001b[49m\u001b[43m*\u001b[49m\u001b[43margs\u001b[49m\u001b[43m,\u001b[49m\u001b[43m \u001b[49m\u001b[43m*\u001b[49m\u001b[43m*\u001b[49m\u001b[43mkwargs\u001b[49m\u001b[43m)\u001b[49m\n",
      "\u001b[36mFile \u001b[39m\u001b[32m~/anaconda3/envs/nlp_env/lib/python3.11/site-packages/torch/nn/modules/module.py:1520\u001b[39m, in \u001b[36mModule._call_impl\u001b[39m\u001b[34m(self, *args, **kwargs)\u001b[39m\n\u001b[32m   1515\u001b[39m \u001b[38;5;66;03m# If we don't have any hooks, we want to skip the rest of the logic in\u001b[39;00m\n\u001b[32m   1516\u001b[39m \u001b[38;5;66;03m# this function, and just call forward.\u001b[39;00m\n\u001b[32m   1517\u001b[39m \u001b[38;5;28;01mif\u001b[39;00m \u001b[38;5;129;01mnot\u001b[39;00m (\u001b[38;5;28mself\u001b[39m._backward_hooks \u001b[38;5;129;01mor\u001b[39;00m \u001b[38;5;28mself\u001b[39m._backward_pre_hooks \u001b[38;5;129;01mor\u001b[39;00m \u001b[38;5;28mself\u001b[39m._forward_hooks \u001b[38;5;129;01mor\u001b[39;00m \u001b[38;5;28mself\u001b[39m._forward_pre_hooks\n\u001b[32m   1518\u001b[39m         \u001b[38;5;129;01mor\u001b[39;00m _global_backward_pre_hooks \u001b[38;5;129;01mor\u001b[39;00m _global_backward_hooks\n\u001b[32m   1519\u001b[39m         \u001b[38;5;129;01mor\u001b[39;00m _global_forward_hooks \u001b[38;5;129;01mor\u001b[39;00m _global_forward_pre_hooks):\n\u001b[32m-> \u001b[39m\u001b[32m1520\u001b[39m     \u001b[38;5;28;01mreturn\u001b[39;00m \u001b[43mforward_call\u001b[49m\u001b[43m(\u001b[49m\u001b[43m*\u001b[49m\u001b[43margs\u001b[49m\u001b[43m,\u001b[49m\u001b[43m \u001b[49m\u001b[43m*\u001b[49m\u001b[43m*\u001b[49m\u001b[43mkwargs\u001b[49m\u001b[43m)\u001b[49m\n\u001b[32m   1522\u001b[39m \u001b[38;5;28;01mtry\u001b[39;00m:\n\u001b[32m   1523\u001b[39m     result = \u001b[38;5;28;01mNone\u001b[39;00m\n",
      "\u001b[36mCell\u001b[39m\u001b[36m \u001b[39m\u001b[32mIn[13]\u001b[39m\u001b[32m, line 68\u001b[39m, in \u001b[36mTokenAndPosEmbedding.forward\u001b[39m\u001b[34m(self, x)\u001b[39m\n\u001b[32m     67\u001b[39m \u001b[38;5;28;01mdef\u001b[39;00m\u001b[38;5;250m \u001b[39m\u001b[34mforward\u001b[39m(\u001b[38;5;28mself\u001b[39m, x):\n\u001b[32m---> \u001b[39m\u001b[32m68\u001b[39m     token_emb = \u001b[38;5;28;43mself\u001b[39;49m\u001b[43m.\u001b[49m\u001b[43mtoken_emb\u001b[49m\u001b[43m(\u001b[49m\u001b[43mx\u001b[49m\u001b[43m)\u001b[49m\n\u001b[32m     69\u001b[39m     \u001b[38;5;28;01mreturn\u001b[39;00m \u001b[38;5;28mself\u001b[39m.pos_emb(token_emb)\n",
      "\u001b[36mFile \u001b[39m\u001b[32m~/anaconda3/envs/nlp_env/lib/python3.11/site-packages/torch/nn/modules/module.py:1511\u001b[39m, in \u001b[36mModule._wrapped_call_impl\u001b[39m\u001b[34m(self, *args, **kwargs)\u001b[39m\n\u001b[32m   1509\u001b[39m     \u001b[38;5;28;01mreturn\u001b[39;00m \u001b[38;5;28mself\u001b[39m._compiled_call_impl(*args, **kwargs)  \u001b[38;5;66;03m# type: ignore[misc]\u001b[39;00m\n\u001b[32m   1510\u001b[39m \u001b[38;5;28;01melse\u001b[39;00m:\n\u001b[32m-> \u001b[39m\u001b[32m1511\u001b[39m     \u001b[38;5;28;01mreturn\u001b[39;00m \u001b[38;5;28;43mself\u001b[39;49m\u001b[43m.\u001b[49m\u001b[43m_call_impl\u001b[49m\u001b[43m(\u001b[49m\u001b[43m*\u001b[49m\u001b[43margs\u001b[49m\u001b[43m,\u001b[49m\u001b[43m \u001b[49m\u001b[43m*\u001b[49m\u001b[43m*\u001b[49m\u001b[43mkwargs\u001b[49m\u001b[43m)\u001b[49m\n",
      "\u001b[36mFile \u001b[39m\u001b[32m~/anaconda3/envs/nlp_env/lib/python3.11/site-packages/torch/nn/modules/module.py:1520\u001b[39m, in \u001b[36mModule._call_impl\u001b[39m\u001b[34m(self, *args, **kwargs)\u001b[39m\n\u001b[32m   1515\u001b[39m \u001b[38;5;66;03m# If we don't have any hooks, we want to skip the rest of the logic in\u001b[39;00m\n\u001b[32m   1516\u001b[39m \u001b[38;5;66;03m# this function, and just call forward.\u001b[39;00m\n\u001b[32m   1517\u001b[39m \u001b[38;5;28;01mif\u001b[39;00m \u001b[38;5;129;01mnot\u001b[39;00m (\u001b[38;5;28mself\u001b[39m._backward_hooks \u001b[38;5;129;01mor\u001b[39;00m \u001b[38;5;28mself\u001b[39m._backward_pre_hooks \u001b[38;5;129;01mor\u001b[39;00m \u001b[38;5;28mself\u001b[39m._forward_hooks \u001b[38;5;129;01mor\u001b[39;00m \u001b[38;5;28mself\u001b[39m._forward_pre_hooks\n\u001b[32m   1518\u001b[39m         \u001b[38;5;129;01mor\u001b[39;00m _global_backward_pre_hooks \u001b[38;5;129;01mor\u001b[39;00m _global_backward_hooks\n\u001b[32m   1519\u001b[39m         \u001b[38;5;129;01mor\u001b[39;00m _global_forward_hooks \u001b[38;5;129;01mor\u001b[39;00m _global_forward_pre_hooks):\n\u001b[32m-> \u001b[39m\u001b[32m1520\u001b[39m     \u001b[38;5;28;01mreturn\u001b[39;00m \u001b[43mforward_call\u001b[49m\u001b[43m(\u001b[49m\u001b[43m*\u001b[49m\u001b[43margs\u001b[49m\u001b[43m,\u001b[49m\u001b[43m \u001b[49m\u001b[43m*\u001b[49m\u001b[43m*\u001b[49m\u001b[43mkwargs\u001b[49m\u001b[43m)\u001b[49m\n\u001b[32m   1522\u001b[39m \u001b[38;5;28;01mtry\u001b[39;00m:\n\u001b[32m   1523\u001b[39m     result = \u001b[38;5;28;01mNone\u001b[39;00m\n",
      "\u001b[36mFile \u001b[39m\u001b[32m~/anaconda3/envs/nlp_env/lib/python3.11/site-packages/torch/nn/modules/sparse.py:163\u001b[39m, in \u001b[36mEmbedding.forward\u001b[39m\u001b[34m(self, input)\u001b[39m\n\u001b[32m    162\u001b[39m \u001b[38;5;28;01mdef\u001b[39;00m\u001b[38;5;250m \u001b[39m\u001b[34mforward\u001b[39m(\u001b[38;5;28mself\u001b[39m, \u001b[38;5;28minput\u001b[39m: Tensor) -> Tensor:\n\u001b[32m--> \u001b[39m\u001b[32m163\u001b[39m     \u001b[38;5;28;01mreturn\u001b[39;00m \u001b[43mF\u001b[49m\u001b[43m.\u001b[49m\u001b[43membedding\u001b[49m\u001b[43m(\u001b[49m\n\u001b[32m    164\u001b[39m \u001b[43m        \u001b[49m\u001b[38;5;28;43minput\u001b[39;49m\u001b[43m,\u001b[49m\u001b[43m \u001b[49m\u001b[38;5;28;43mself\u001b[39;49m\u001b[43m.\u001b[49m\u001b[43mweight\u001b[49m\u001b[43m,\u001b[49m\u001b[43m \u001b[49m\u001b[38;5;28;43mself\u001b[39;49m\u001b[43m.\u001b[49m\u001b[43mpadding_idx\u001b[49m\u001b[43m,\u001b[49m\u001b[43m \u001b[49m\u001b[38;5;28;43mself\u001b[39;49m\u001b[43m.\u001b[49m\u001b[43mmax_norm\u001b[49m\u001b[43m,\u001b[49m\n\u001b[32m    165\u001b[39m \u001b[43m        \u001b[49m\u001b[38;5;28;43mself\u001b[39;49m\u001b[43m.\u001b[49m\u001b[43mnorm_type\u001b[49m\u001b[43m,\u001b[49m\u001b[43m \u001b[49m\u001b[38;5;28;43mself\u001b[39;49m\u001b[43m.\u001b[49m\u001b[43mscale_grad_by_freq\u001b[49m\u001b[43m,\u001b[49m\u001b[43m \u001b[49m\u001b[38;5;28;43mself\u001b[39;49m\u001b[43m.\u001b[49m\u001b[43msparse\u001b[49m\u001b[43m)\u001b[49m\n",
      "\u001b[36mFile \u001b[39m\u001b[32m~/anaconda3/envs/nlp_env/lib/python3.11/site-packages/torch/nn/functional.py:2237\u001b[39m, in \u001b[36membedding\u001b[39m\u001b[34m(input, weight, padding_idx, max_norm, norm_type, scale_grad_by_freq, sparse)\u001b[39m\n\u001b[32m   2231\u001b[39m     \u001b[38;5;66;03m# Note [embedding_renorm set_grad_enabled]\u001b[39;00m\n\u001b[32m   2232\u001b[39m     \u001b[38;5;66;03m# XXX: equivalent to\u001b[39;00m\n\u001b[32m   2233\u001b[39m     \u001b[38;5;66;03m# with torch.no_grad():\u001b[39;00m\n\u001b[32m   2234\u001b[39m     \u001b[38;5;66;03m#   torch.embedding_renorm_\u001b[39;00m\n\u001b[32m   2235\u001b[39m     \u001b[38;5;66;03m# remove once script supports set_grad_enabled\u001b[39;00m\n\u001b[32m   2236\u001b[39m     _no_grad_embedding_renorm_(weight, \u001b[38;5;28minput\u001b[39m, max_norm, norm_type)\n\u001b[32m-> \u001b[39m\u001b[32m2237\u001b[39m \u001b[38;5;28;01mreturn\u001b[39;00m \u001b[43mtorch\u001b[49m\u001b[43m.\u001b[49m\u001b[43membedding\u001b[49m\u001b[43m(\u001b[49m\u001b[43mweight\u001b[49m\u001b[43m,\u001b[49m\u001b[43m \u001b[49m\u001b[38;5;28;43minput\u001b[39;49m\u001b[43m,\u001b[49m\u001b[43m \u001b[49m\u001b[43mpadding_idx\u001b[49m\u001b[43m,\u001b[49m\u001b[43m \u001b[49m\u001b[43mscale_grad_by_freq\u001b[49m\u001b[43m,\u001b[49m\u001b[43m \u001b[49m\u001b[43msparse\u001b[49m\u001b[43m)\u001b[49m\n",
      "\u001b[31mTypeError\u001b[39m: embedding(): argument 'indices' (position 2) must be Tensor, not dict"
     ]
    }
   ],
   "source": [
    "# 1. Hacer predicciones\n",
    "predictions = trainer.predict(model, test_loader)  # lista de batches\n",
    "\n",
    "# 2. Concatenar todos los batches\n",
    "predictions = torch.cat(predictions, dim=0)  # shape (num_examples, seq_len, num_labels)\n",
    "\n",
    "# 3. Obtener la clase con mayor score por token\n",
    "predicted_ids = torch.argmax(predictions, dim=-1)  # shape (num_examples, seq_len)\n",
    "\n",
    "# 4. Mapear a etiquetas NER reales, ignorando padding tokens\n",
    "predicted_labels = []\n",
    "for i, seq in enumerate(predicted_ids):\n",
    "    seq_labels = []\n",
    "    for j, token_id in enumerate(seq):\n",
    "        # asumiendo que el padding de labels es -100\n",
    "        if ner_dataset.labels[i][j] != -100:  \n",
    "            seq_labels.append(ner_dataset.id_2_class_map[token_id.item()])\n",
    "    predicted_labels.append(seq_labels)\n",
    "\n",
    "# predicted_labels es ahora una lista de listas de etiquetas por ejemplo\n",
    "print(predicted_labels[0])\n"
   ]
  },
  {
   "cell_type": "code",
   "execution_count": 43,
   "metadata": {},
   "outputs": [
    {
     "name": "stderr",
     "output_type": "stream",
     "text": [
      "LOCAL_RANK: 0 - CUDA_VISIBLE_DEVICES: [0]\n"
     ]
    },
    {
     "name": "stdout",
     "output_type": "stream",
     "text": [
      "Added predict_step method to WikiANNTransformerNER class\n",
      "Running predictions...\n",
      "Predicting DataLoader 0: 100%|██████████| 500/500 [00:01<00:00, 453.41it/s]\n",
      "Got predictions for 500 batches\n",
      "Processed 16413 predictions\n",
      "Processed 16413 true labels\n",
      "Overall Accuracy: 0.7082\n",
      "\n",
      "Classification Report:\n",
      "              precision    recall  f1-score   support\n",
      "\n",
      "       B-LOC       0.64      0.55      0.59      1242\n",
      "       B-ORG       0.62      0.43      0.51      1067\n",
      "       B-PER       0.55      0.51      0.53      1068\n",
      "       I-LOC       0.61      0.48      0.54      1564\n",
      "       I-ORG       0.68      0.65      0.66      3077\n",
      "       I-PER       0.52      0.61      0.56      2178\n",
      "           O       0.85      0.95      0.89      6217\n",
      "\n",
      "    accuracy                           0.71     16413\n",
      "   macro avg       0.64      0.59      0.61     16413\n",
      "weighted avg       0.70      0.71      0.70     16413\n",
      "\n",
      "\n",
      "Entity-only Accuracy: 0.5631\n",
      "\n",
      "Entity Classification Report:\n",
      "              precision    recall  f1-score   support\n",
      "\n",
      "       B-LOC       0.67      0.55      0.60      1242\n",
      "       B-ORG       0.64      0.43      0.51      1067\n",
      "       B-PER       0.58      0.51      0.54      1068\n",
      "       I-LOC       0.62      0.48      0.54      1564\n",
      "       I-ORG       0.70      0.65      0.67      3077\n",
      "       I-PER       0.54      0.61      0.57      2178\n",
      "           O       0.00      0.00      0.00         0\n",
      "\n",
      "    accuracy                           0.56     10196\n",
      "   macro avg       0.54      0.46      0.49     10196\n",
      "weighted avg       0.63      0.56      0.59     10196\n",
      "\n"
     ]
    }
   ],
   "source": [
    "# ===== CELL 1: Fix the predict_step method =====\n",
    "# Add this method to your WikiANNTransformerNER class\n",
    "\n",
    "def predict_step(self, batch, batch_idx):\n",
    "    \"\"\"Prediction step for inference - fixed to handle batch properly\"\"\"\n",
    "    # Extract tensors from batch dictionary\n",
    "    x = batch['input_ids']\n",
    "    mask = batch['attention_mask']\n",
    "    \n",
    "    # Forward pass\n",
    "    logits = self(x, mask)  # Now calling forward with proper arguments\n",
    "    predictions = torch.argmax(logits, dim=-1)\n",
    "    \n",
    "    return {\n",
    "        'predictions': predictions,\n",
    "        'attention_mask': mask,\n",
    "        'labels': batch.get('labels', None)\n",
    "    }\n",
    "\n",
    "# Add the method to your existing class\n",
    "WikiANNTransformerNER.predict_step = predict_step\n",
    "\n",
    "print(\"Added predict_step method to WikiANNTransformerNER class\")\n",
    "\n",
    "# ===== CELL 2: Run predictions (this should work now) =====\n",
    "print(\"Running predictions...\")\n",
    "predictions_list = trainer.predict(model, test_loader)\n",
    "print(f\"Got predictions for {len(predictions_list)} batches\")\n",
    "\n",
    "# ===== CELL 3: Process predictions properly =====\n",
    "def process_predictions(predictions_list, dataset, id_2_class_map):\n",
    "    \"\"\"Process the predictions from trainer.predict()\"\"\"\n",
    "    \n",
    "    all_predictions = []\n",
    "    all_true_labels = []\n",
    "    \n",
    "    for batch_results in predictions_list:\n",
    "        pred_ids = batch_results['predictions']  # (batch_size, seq_len)\n",
    "        attention_masks = batch_results['attention_mask']  # (batch_size, seq_len)\n",
    "        true_labels = batch_results.get('labels', None)\n",
    "        \n",
    "        # Process each sequence in the batch\n",
    "        for i in range(pred_ids.size(0)):\n",
    "            seq_preds = pred_ids[i]\n",
    "            seq_mask = attention_masks[i]\n",
    "            \n",
    "            # Get only valid (non-padded) predictions\n",
    "            valid_preds = seq_preds[seq_mask == 1]\n",
    "            \n",
    "            # Convert to label names\n",
    "            pred_labels = [id_2_class_map.get(pred.item(), 'O') for pred in valid_preds]\n",
    "            all_predictions.extend(pred_labels)\n",
    "            \n",
    "            # Process true labels if available\n",
    "            if true_labels is not None:\n",
    "                seq_true = true_labels[i]\n",
    "                valid_true = seq_true[seq_mask == 1]\n",
    "                # Remove padding labels (-100)\n",
    "                valid_true = valid_true[valid_true != -100]\n",
    "                true_label_names = [id_2_class_map.get(label.item(), 'O') for label in valid_true]\n",
    "                all_true_labels.extend(true_label_names)\n",
    "    \n",
    "    return all_predictions, all_true_labels if all_true_labels else None\n",
    "\n",
    "# Use the id_2_class mapping from your dataset\n",
    "id_2_class_map = train_dataset.dataset.id_2_class\n",
    "predictions, true_labels = process_predictions(predictions_list, test_dataset, id_2_class_map)\n",
    "\n",
    "print(f\"Processed {len(predictions)} predictions\")\n",
    "if true_labels:\n",
    "    print(f\"Processed {len(true_labels)} true labels\")\n",
    "\n",
    "# ===== CELL 4: Calculate metrics =====\n",
    "if true_labels:\n",
    "    from sklearn.metrics import classification_report, accuracy_score\n",
    "    \n",
    "    # Calculate accuracy\n",
    "    accuracy = accuracy_score(true_labels, predictions)\n",
    "    print(f\"Overall Accuracy: {accuracy:.4f}\")\n",
    "    \n",
    "    # Detailed classification report\n",
    "    print(\"\\nClassification Report:\")\n",
    "    print(classification_report(true_labels, predictions))\n",
    "    \n",
    "    # Entity-level metrics (excluding 'O' tags)\n",
    "    entity_true = [label for label in true_labels if label != 'O']\n",
    "    entity_pred = [pred for pred, true in zip(predictions, true_labels) if true != 'O']\n",
    "    \n",
    "    if entity_true:\n",
    "        entity_accuracy = accuracy_score(entity_true, entity_pred)\n",
    "        print(f\"\\nEntity-only Accuracy: {entity_accuracy:.4f}\")\n",
    "        print(\"\\nEntity Classification Report:\")\n",
    "        print(classification_report(entity_true, entity_pred))\n",
    "\n",
    "# ===== CELL 5: Show sample predictions with original tokens =====\n",
    "def show_detailed_predictions(model, test_dataset, test_loader, trainer, num_samples=3):\n",
    "    \"\"\"Show predictions aligned with original tokens\"\"\"\n",
    "    \n",
    "    predictions_list = trainer.predict(model, test_loader)\n",
    "    \n",
    "    sample_count = 0\n",
    "    batch_idx = 0\n",
    "    \n",
    "    for batch_results in predictions_list:\n",
    "        if sample_count >= num_samples:\n",
    "            break\n",
    "            \n",
    "        pred_ids = batch_results['predictions']\n",
    "        attention_masks = batch_results['attention_mask']\n",
    "        \n",
    "        for i in range(pred_ids.size(0)):\n",
    "            if sample_count >= num_samples:\n",
    "                break\n",
    "                \n",
    "            # Calculate the actual index in the dataset\n",
    "            actual_idx = batch_idx * test_loader.batch_size + i\n",
    "            if actual_idx >= len(test_dataset):\n",
    "                break\n",
    "                \n",
    "            # Get original example\n",
    "            original_example = test_dataset.dataset[test_dataset.indices[actual_idx]]\n",
    "            original_tokens = original_example['tokens']\n",
    "            original_labels = [test_dataset.dataset.id_2_class[label] for label in original_example['ner_tags']]\n",
    "            \n",
    "            # Get predictions for this sequence\n",
    "            seq_predictions = pred_ids[i]\n",
    "            seq_mask = attention_masks[i]\n",
    "            \n",
    "            # Filter predictions by attention mask\n",
    "            valid_predictions = seq_predictions[seq_mask == 1]\n",
    "            pred_labels = [test_dataset.dataset.id_2_class.get(pred.item(), 'O') for pred in valid_predictions]\n",
    "            \n",
    "            # Align with original tokens (take first N predictions where N = len(original_tokens))\n",
    "            aligned_predictions = pred_labels[:len(original_tokens)]\n",
    "            \n",
    "            print(f\"\\n=== Sample {sample_count + 1} ===\")\n",
    "            print(\"Token        | True       | Predicted  | Match\")\n",
    "            print(\"-\" * 50)\n",
    "            \n",
    "            for j, token in enumerate(original_tokens):\n",
    "                true_label = original_labels[j] if j < len(original_labels) else 'O'\n",
    "                pred_label = aligned_predictions[j] if j < len(aligned_predictions) else 'O'\n",
    "                match_symbol = \"✓\" if true_label == pred_label else \"✗\"\n",
    "                print(f\"{token:12} | {true_label:10} | {pred_label:10} | {match_symbol}\")\n",
    "            \n",
    "            sample_count += 1\n",
    "        \n",
    "        batch_idx += 1\n",
    "    \n",
    "    return sample_count\n",
    "\n"
   ]
  },
  {
   "cell_type": "code",
   "execution_count": 42,
   "metadata": {},
   "outputs": [
    {
     "name": "stdout",
     "output_type": "stream",
     "text": [
      "Grouping predictions by sample...\n",
      "Grouped into 2000 samples\n",
      "DataFrame created with 2000 samples\n"
     ]
    },
    {
     "data": {
      "text/html": [
       "<div>\n",
       "<style scoped>\n",
       "    .dataframe tbody tr th:only-of-type {\n",
       "        vertical-align: middle;\n",
       "    }\n",
       "\n",
       "    .dataframe tbody tr th {\n",
       "        vertical-align: top;\n",
       "    }\n",
       "\n",
       "    .dataframe thead th {\n",
       "        text-align: right;\n",
       "    }\n",
       "</style>\n",
       "<table border=\"1\" class=\"dataframe\">\n",
       "  <thead>\n",
       "    <tr style=\"text-align: right;\">\n",
       "      <th></th>\n",
       "      <th>tokens</th>\n",
       "      <th>token_ids</th>\n",
       "      <th>token_strings</th>\n",
       "      <th>true_labels</th>\n",
       "      <th>predicted_labels</th>\n",
       "    </tr>\n",
       "  </thead>\n",
       "  <tbody>\n",
       "    <tr>\n",
       "      <th>16138</th>\n",
       "      <td>[Escala, de, huracanes, de, Saffir-Simpson]</td>\n",
       "      <td>[794, 703, 260, 8954, 2223, 289, 260, 694, 867...</td>\n",
       "      <td>[ĠEsc, ala, Ġde, Ġhura, can, es, Ġde, ĠSa, ff,...</td>\n",
       "      <td>[B-ORG, I-ORG, I-ORG, I-ORG, I-ORG]</td>\n",
       "      <td>[B-ORG, I-ORG, I-ORG, I-ORG, I-ORG]</td>\n",
       "    </tr>\n",
       "    <tr>\n",
       "      <th>19249</th>\n",
       "      <td>[*El, primer, cuartel, simboliza, las, Islas, ...</td>\n",
       "      <td>[438, 3227, 2198, 990, 17310, 6294, 434, 1445,...</td>\n",
       "      <td>[Ġ*, El, Ġprimer, Ġcu, artel, Ġsim, bol, iza, ...</td>\n",
       "      <td>[O, O, O, O, O, B-LOC, I-LOC, O]</td>\n",
       "      <td>[O, O, O, O, O, O, O, O]</td>\n",
       "    </tr>\n",
       "    <tr>\n",
       "      <th>5649</th>\n",
       "      <td>[REDIRECCIÓN, Tubérculo, menor, del, húmero]</td>\n",
       "      <td>[276, 10777, 6464, 280, 360, 8957]</td>\n",
       "      <td>[ĠREDIRECCIÃĵN, ĠTubÃ©rculo, Ġmen, or, Ġdel, Ġ...</td>\n",
       "      <td>[O, B-LOC, I-LOC, I-LOC, I-LOC]</td>\n",
       "      <td>[O, B-LOC, B-LOC, I-LOC, I-LOC]</td>\n",
       "    </tr>\n",
       "    <tr>\n",
       "      <th>11211</th>\n",
       "      <td>[', '', Coquimbo, Unido, '', ']</td>\n",
       "      <td>[257, 262, 4381, 1312, 262, 257]</td>\n",
       "      <td>[Ġ', Ġ'', ĠCoquimbo, ĠUnido, Ġ'', Ġ']</td>\n",
       "      <td>[O, O, B-ORG, I-ORG, O, O]</td>\n",
       "      <td>[O, O, I-PER, I-PER, O, O]</td>\n",
       "    </tr>\n",
       "    <tr>\n",
       "      <th>18077</th>\n",
       "      <td>[====, Circuitos, Continentales, UCI, ====]</td>\n",
       "      <td>[2051, 3184, 5132, 15376, 3048, 6286, 2051]</td>\n",
       "      <td>[Ġ====, ĠCircu, itos, ĠContin, entales, ĠUCI, ...</td>\n",
       "      <td>[O, B-ORG, I-ORG, I-ORG, O]</td>\n",
       "      <td>[O, B-PER, I-PER, I-PER, I-PER]</td>\n",
       "    </tr>\n",
       "    <tr>\n",
       "      <th>12921</th>\n",
       "      <td>[junto, a, Ben, Chaplin, y, Idris, Elba]</td>\n",
       "      <td>[1009, 342, 839, 2623, 1979, 337, 6254, 865, 1...</td>\n",
       "      <td>[Ġjunto, Ġa, ĠBen, ĠChap, lin, Ġy, ĠId, ris, Ġ...</td>\n",
       "      <td>[O, O, B-PER, I-PER, O, B-PER, I-PER]</td>\n",
       "      <td>[O, O, B-PER, I-PER, I-ORG, I-PER, I-PER]</td>\n",
       "    </tr>\n",
       "    <tr>\n",
       "      <th>9350</th>\n",
       "      <td>[REDIRECCIÓN, The, World, We, Live, In]</td>\n",
       "      <td>[276, 592, 1803, 2445, 2398, 430]</td>\n",
       "      <td>[ĠREDIRECCIÃĵN, ĠThe, ĠWorld, ĠWe, ĠLive, ĠIn]</td>\n",
       "      <td>[O, B-ORG, I-ORG, I-ORG, I-ORG, I-ORG]</td>\n",
       "      <td>[O, B-ORG, I-ORG, I-ORG, I-ORG, I-ORG]</td>\n",
       "    </tr>\n",
       "    <tr>\n",
       "      <th>12190</th>\n",
       "      <td>[===, Universal, /, PolyGram, ===]</td>\n",
       "      <td>[761, 4386, 499, 885, 89, 39, 4992, 761]</td>\n",
       "      <td>[Ġ===, ĠUniversal, Ġ/, ĠPol, y, G, ram, Ġ===]</td>\n",
       "      <td>[O, B-ORG, O, B-ORG, O]</td>\n",
       "      <td>[O, I-PER, O, I-ORG, I-PER]</td>\n",
       "    </tr>\n",
       "    <tr>\n",
       "      <th>12414</th>\n",
       "      <td>[Partido, Comunista, de, Alemania, (, Oposició...</td>\n",
       "      <td>[575, 2191, 260, 541, 286, 15022, 287]</td>\n",
       "      <td>[ĠPartido, ĠComunista, Ġde, ĠAlemania, Ġ(, ĠOp...</td>\n",
       "      <td>[B-ORG, I-ORG, I-ORG, I-ORG, I-ORG, I-ORG, I-ORG]</td>\n",
       "      <td>[B-ORG, I-ORG, I-ORG, I-ORG, I-ORG, I-ORG, I-ORG]</td>\n",
       "    </tr>\n",
       "    <tr>\n",
       "      <th>10482</th>\n",
       "      <td>[Santa, María, del, Oro]</td>\n",
       "      <td>[723, 547, 360, 1770]</td>\n",
       "      <td>[ĠSanta, ĠMarÃŃa, Ġdel, ĠOro]</td>\n",
       "      <td>[B-LOC, I-LOC, I-LOC, I-LOC]</td>\n",
       "      <td>[B-LOC, I-PER, I-PER, I-PER]</td>\n",
       "    </tr>\n",
       "    <tr>\n",
       "      <th>6427</th>\n",
       "      <td>[Comarca, de, El, Morrazo]</td>\n",
       "      <td>[2646, 260, 437, 18436]</td>\n",
       "      <td>[ĠComarca, Ġde, ĠEl, ĠMorrazo]</td>\n",
       "      <td>[B-LOC, I-LOC, I-LOC, I-LOC]</td>\n",
       "      <td>[B-LOC, I-LOC, B-LOC, I-LOC]</td>\n",
       "    </tr>\n",
       "    <tr>\n",
       "      <th>5138</th>\n",
       "      <td>[REDIRECCIÓN, Sebastián, Cirac, Estopañán]</td>\n",
       "      <td>[276, 2686, 18119, 6313, 19617]</td>\n",
       "      <td>[ĠREDIRECCIÃĵN, ĠSebastiÃ¡n, ĠCirac, ĠEsto, pa...</td>\n",
       "      <td>[O, B-PER, I-PER, I-PER]</td>\n",
       "      <td>[O, B-LOC, B-PER, I-PER]</td>\n",
       "    </tr>\n",
       "    <tr>\n",
       "      <th>14327</th>\n",
       "      <td>[**, Perales, de, Tajuña, .]</td>\n",
       "      <td>[453, 605, 608, 260, 19388, 288]</td>\n",
       "      <td>[Ġ**, ĠPer, ales, Ġde, ĠTajuÃ±a, Ġ.]</td>\n",
       "      <td>[O, B-LOC, I-LOC, I-LOC, O]</td>\n",
       "      <td>[O, B-LOC, O, I-LOC, B-LOC]</td>\n",
       "    </tr>\n",
       "    <tr>\n",
       "      <th>1906</th>\n",
       "      <td>[', '', Rennae, Stubbs, Helena, Suková]</td>\n",
       "      <td>[257, 262, 10137, 9268, 6241, 9006]</td>\n",
       "      <td>[Ġ', Ġ'', ĠRennae, ĠStubbs, ĠHelena, ĠSukovÃ¡]</td>\n",
       "      <td>[O, O, B-PER, I-PER, B-PER, I-PER]</td>\n",
       "      <td>[O, O, B-PER, B-ORG, B-LOC, I-ORG]</td>\n",
       "    </tr>\n",
       "    <tr>\n",
       "      <th>7594</th>\n",
       "      <td>[José, María, Zeledón, Brenes]</td>\n",
       "      <td>[482, 547, 9827, 17693]</td>\n",
       "      <td>[ĠJosÃ©, ĠMarÃŃa, ĠZeledÃ³n, ĠBrenes]</td>\n",
       "      <td>[B-PER, I-PER, I-PER, I-PER]</td>\n",
       "      <td>[B-PER, I-PER, I-PER, I-PER]</td>\n",
       "    </tr>\n",
       "  </tbody>\n",
       "</table>\n",
       "</div>"
      ],
      "text/plain": [
       "                                                  tokens  \\\n",
       "16138        [Escala, de, huracanes, de, Saffir-Simpson]   \n",
       "19249  [*El, primer, cuartel, simboliza, las, Islas, ...   \n",
       "5649        [REDIRECCIÓN, Tubérculo, menor, del, húmero]   \n",
       "11211                    [', '', Coquimbo, Unido, '', ']   \n",
       "18077        [====, Circuitos, Continentales, UCI, ====]   \n",
       "12921           [junto, a, Ben, Chaplin, y, Idris, Elba]   \n",
       "9350             [REDIRECCIÓN, The, World, We, Live, In]   \n",
       "12190                 [===, Universal, /, PolyGram, ===]   \n",
       "12414  [Partido, Comunista, de, Alemania, (, Oposició...   \n",
       "10482                           [Santa, María, del, Oro]   \n",
       "6427                          [Comarca, de, El, Morrazo]   \n",
       "5138          [REDIRECCIÓN, Sebastián, Cirac, Estopañán]   \n",
       "14327                       [**, Perales, de, Tajuña, .]   \n",
       "1906             [', '', Rennae, Stubbs, Helena, Suková]   \n",
       "7594                      [José, María, Zeledón, Brenes]   \n",
       "\n",
       "                                               token_ids  \\\n",
       "16138  [794, 703, 260, 8954, 2223, 289, 260, 694, 867...   \n",
       "19249  [438, 3227, 2198, 990, 17310, 6294, 434, 1445,...   \n",
       "5649                  [276, 10777, 6464, 280, 360, 8957]   \n",
       "11211                   [257, 262, 4381, 1312, 262, 257]   \n",
       "18077        [2051, 3184, 5132, 15376, 3048, 6286, 2051]   \n",
       "12921  [1009, 342, 839, 2623, 1979, 337, 6254, 865, 1...   \n",
       "9350                   [276, 592, 1803, 2445, 2398, 430]   \n",
       "12190           [761, 4386, 499, 885, 89, 39, 4992, 761]   \n",
       "12414             [575, 2191, 260, 541, 286, 15022, 287]   \n",
       "10482                              [723, 547, 360, 1770]   \n",
       "6427                             [2646, 260, 437, 18436]   \n",
       "5138                     [276, 2686, 18119, 6313, 19617]   \n",
       "14327                   [453, 605, 608, 260, 19388, 288]   \n",
       "1906                 [257, 262, 10137, 9268, 6241, 9006]   \n",
       "7594                             [482, 547, 9827, 17693]   \n",
       "\n",
       "                                           token_strings  \\\n",
       "16138  [ĠEsc, ala, Ġde, Ġhura, can, es, Ġde, ĠSa, ff,...   \n",
       "19249  [Ġ*, El, Ġprimer, Ġcu, artel, Ġsim, bol, iza, ...   \n",
       "5649   [ĠREDIRECCIÃĵN, ĠTubÃ©rculo, Ġmen, or, Ġdel, Ġ...   \n",
       "11211              [Ġ', Ġ'', ĠCoquimbo, ĠUnido, Ġ'', Ġ']   \n",
       "18077  [Ġ====, ĠCircu, itos, ĠContin, entales, ĠUCI, ...   \n",
       "12921  [Ġjunto, Ġa, ĠBen, ĠChap, lin, Ġy, ĠId, ris, Ġ...   \n",
       "9350      [ĠREDIRECCIÃĵN, ĠThe, ĠWorld, ĠWe, ĠLive, ĠIn]   \n",
       "12190      [Ġ===, ĠUniversal, Ġ/, ĠPol, y, G, ram, Ġ===]   \n",
       "12414  [ĠPartido, ĠComunista, Ġde, ĠAlemania, Ġ(, ĠOp...   \n",
       "10482                      [ĠSanta, ĠMarÃŃa, Ġdel, ĠOro]   \n",
       "6427                      [ĠComarca, Ġde, ĠEl, ĠMorrazo]   \n",
       "5138   [ĠREDIRECCIÃĵN, ĠSebastiÃ¡n, ĠCirac, ĠEsto, pa...   \n",
       "14327               [Ġ**, ĠPer, ales, Ġde, ĠTajuÃ±a, Ġ.]   \n",
       "1906      [Ġ', Ġ'', ĠRennae, ĠStubbs, ĠHelena, ĠSukovÃ¡]   \n",
       "7594               [ĠJosÃ©, ĠMarÃŃa, ĠZeledÃ³n, ĠBrenes]   \n",
       "\n",
       "                                             true_labels  \\\n",
       "16138                [B-ORG, I-ORG, I-ORG, I-ORG, I-ORG]   \n",
       "19249                   [O, O, O, O, O, B-LOC, I-LOC, O]   \n",
       "5649                     [O, B-LOC, I-LOC, I-LOC, I-LOC]   \n",
       "11211                         [O, O, B-ORG, I-ORG, O, O]   \n",
       "18077                        [O, B-ORG, I-ORG, I-ORG, O]   \n",
       "12921              [O, O, B-PER, I-PER, O, B-PER, I-PER]   \n",
       "9350              [O, B-ORG, I-ORG, I-ORG, I-ORG, I-ORG]   \n",
       "12190                            [O, B-ORG, O, B-ORG, O]   \n",
       "12414  [B-ORG, I-ORG, I-ORG, I-ORG, I-ORG, I-ORG, I-ORG]   \n",
       "10482                       [B-LOC, I-LOC, I-LOC, I-LOC]   \n",
       "6427                        [B-LOC, I-LOC, I-LOC, I-LOC]   \n",
       "5138                            [O, B-PER, I-PER, I-PER]   \n",
       "14327                        [O, B-LOC, I-LOC, I-LOC, O]   \n",
       "1906                  [O, O, B-PER, I-PER, B-PER, I-PER]   \n",
       "7594                        [B-PER, I-PER, I-PER, I-PER]   \n",
       "\n",
       "                                        predicted_labels  \n",
       "16138                [B-ORG, I-ORG, I-ORG, I-ORG, I-ORG]  \n",
       "19249                           [O, O, O, O, O, O, O, O]  \n",
       "5649                     [O, B-LOC, B-LOC, I-LOC, I-LOC]  \n",
       "11211                         [O, O, I-PER, I-PER, O, O]  \n",
       "18077                    [O, B-PER, I-PER, I-PER, I-PER]  \n",
       "12921          [O, O, B-PER, I-PER, I-ORG, I-PER, I-PER]  \n",
       "9350              [O, B-ORG, I-ORG, I-ORG, I-ORG, I-ORG]  \n",
       "12190                        [O, I-PER, O, I-ORG, I-PER]  \n",
       "12414  [B-ORG, I-ORG, I-ORG, I-ORG, I-ORG, I-ORG, I-ORG]  \n",
       "10482                       [B-LOC, I-PER, I-PER, I-PER]  \n",
       "6427                        [B-LOC, I-LOC, B-LOC, I-LOC]  \n",
       "5138                            [O, B-LOC, B-PER, I-PER]  \n",
       "14327                        [O, B-LOC, O, I-LOC, B-LOC]  \n",
       "1906                  [O, O, B-PER, B-ORG, B-LOC, I-ORG]  \n",
       "7594                        [B-PER, I-PER, I-PER, I-PER]  "
      ]
     },
     "execution_count": 42,
     "metadata": {},
     "output_type": "execute_result"
    }
   ],
   "source": [
    "import pandas as pd\n",
    "\n",
    "# First, let's group predictions by sample instead of having all tokens in one list\n",
    "def group_predictions_by_sample(predictions_list, test_dataset, id_2_class_map):\n",
    "    \"\"\"Group predictions by sample to match dataset structure\"\"\"\n",
    "    \n",
    "    sample_predictions = []\n",
    "    sample_idx = 0\n",
    "    \n",
    "    for batch_results in predictions_list:\n",
    "        pred_ids = batch_results['predictions']  # (batch_size, seq_len)\n",
    "        attention_masks = batch_results['attention_mask']  # (batch_size, seq_len)\n",
    "        \n",
    "        for i in range(pred_ids.size(0)):\n",
    "            if sample_idx >= len(test_dataset):\n",
    "                break\n",
    "                \n",
    "            # Get original sample to know how many tokens it has\n",
    "            original_idx = test_dataset.indices[sample_idx]\n",
    "            original_tokens = dataset[original_idx]['tokens']\n",
    "            \n",
    "            # Get predictions for this sequence\n",
    "            seq_predictions = pred_ids[i]\n",
    "            seq_mask = attention_masks[i]\n",
    "            \n",
    "            # Filter predictions by attention mask\n",
    "            valid_predictions = seq_predictions[seq_mask == 1]\n",
    "            pred_labels = [id_2_class_map.get(pred.item(), 'O') for pred in valid_predictions]\n",
    "            \n",
    "            # Truncate to match original token count\n",
    "            aligned_predictions = pred_labels[:len(original_tokens)]\n",
    "            \n",
    "            sample_predictions.append(aligned_predictions)\n",
    "            sample_idx += 1\n",
    "    \n",
    "    return sample_predictions\n",
    "\n",
    "# Group your predictions by sample\n",
    "print(\"Grouping predictions by sample...\")\n",
    "sample_predictions = group_predictions_by_sample(predictions_list, test_dataset, train_dataset.dataset.id_2_class)\n",
    "print(f\"Grouped into {len(sample_predictions)} samples\")\n",
    "\n",
    "# Get test indices\n",
    "test_indices = test_dataset.indices\n",
    "\n",
    "# Create DataFrame adapted for NER dataset\n",
    "df = pd.DataFrame(data={\n",
    "    \"tokens\": [dataset[idx]['tokens'] for idx in test_indices],\n",
    "    \"token_ids\": [ner_tokenizer(dataset[idx]['tokens'], is_split_into_words=True)['input_ids'] for idx in test_indices],\n",
    "    \"true_labels\": [[train_dataset.dataset.id_2_class[label] for label in dataset[idx]['ner_tags']] for idx in test_indices],\n",
    "    'predicted_labels': sample_predictions[:len(test_indices)]  # Use grouped predictions\n",
    "}, index=test_indices)\n",
    "\n",
    "# Add token strings (convert token IDs back to readable tokens)\n",
    "df['token_strings'] = df.token_ids.apply(lambda t: ner_tokenizer.convert_ids_to_tokens(t))\n",
    "\n",
    "# Reorder columns for better readability\n",
    "df = df[[\"tokens\", \"token_ids\", \"token_strings\", \"true_labels\", \"predicted_labels\"]]\n",
    "\n",
    "# Style the DataFrame for better display\n",
    "styled_df = df.style.set_table_styles(\n",
    "    [\n",
    "        {'selector': 'td', 'props': [('word-wrap', 'break-word')]}\n",
    "    ]\n",
    ")\n",
    "\n",
    "print(f\"DataFrame created with {len(df)} samples\")\n",
    "df.head(15)"
   ]
  },
  {
   "cell_type": "code",
   "execution_count": 44,
   "metadata": {},
   "outputs": [
    {
     "data": {
      "text/html": [
       "<div>\n",
       "<style scoped>\n",
       "    .dataframe tbody tr th:only-of-type {\n",
       "        vertical-align: middle;\n",
       "    }\n",
       "\n",
       "    .dataframe tbody tr th {\n",
       "        vertical-align: top;\n",
       "    }\n",
       "\n",
       "    .dataframe thead th {\n",
       "        text-align: right;\n",
       "    }\n",
       "</style>\n",
       "<table border=\"1\" class=\"dataframe\">\n",
       "  <thead>\n",
       "    <tr style=\"text-align: right;\">\n",
       "      <th></th>\n",
       "      <th>tokens</th>\n",
       "      <th>token_ids</th>\n",
       "      <th>token_strings</th>\n",
       "      <th>true_labels</th>\n",
       "      <th>predicted_labels</th>\n",
       "    </tr>\n",
       "  </thead>\n",
       "  <tbody>\n",
       "    <tr>\n",
       "      <th>19249</th>\n",
       "      <td>[*El, primer, cuartel, simboliza, las, Islas, ...</td>\n",
       "      <td>[438, 3227, 2198, 990, 17310, 6294, 434, 1445,...</td>\n",
       "      <td>[Ġ*, El, Ġprimer, Ġcu, artel, Ġsim, bol, iza, ...</td>\n",
       "      <td>[O, O, O, O, O, B-LOC, I-LOC, O]</td>\n",
       "      <td>[O, O, O, O, O, O, O, O]</td>\n",
       "    </tr>\n",
       "    <tr>\n",
       "      <th>5649</th>\n",
       "      <td>[REDIRECCIÓN, Tubérculo, menor, del, húmero]</td>\n",
       "      <td>[276, 10777, 6464, 280, 360, 8957]</td>\n",
       "      <td>[ĠREDIRECCIÃĵN, ĠTubÃ©rculo, Ġmen, or, Ġdel, Ġ...</td>\n",
       "      <td>[O, B-LOC, I-LOC, I-LOC, I-LOC]</td>\n",
       "      <td>[O, B-LOC, B-LOC, I-LOC, I-LOC]</td>\n",
       "    </tr>\n",
       "    <tr>\n",
       "      <th>11211</th>\n",
       "      <td>[', '', Coquimbo, Unido, '', ']</td>\n",
       "      <td>[257, 262, 4381, 1312, 262, 257]</td>\n",
       "      <td>[Ġ', Ġ'', ĠCoquimbo, ĠUnido, Ġ'', Ġ']</td>\n",
       "      <td>[O, O, B-ORG, I-ORG, O, O]</td>\n",
       "      <td>[O, O, I-PER, I-PER, O, O]</td>\n",
       "    </tr>\n",
       "    <tr>\n",
       "      <th>18077</th>\n",
       "      <td>[====, Circuitos, Continentales, UCI, ====]</td>\n",
       "      <td>[2051, 3184, 5132, 15376, 3048, 6286, 2051]</td>\n",
       "      <td>[Ġ====, ĠCircu, itos, ĠContin, entales, ĠUCI, ...</td>\n",
       "      <td>[O, B-ORG, I-ORG, I-ORG, O]</td>\n",
       "      <td>[O, B-PER, I-PER, I-PER, I-PER]</td>\n",
       "    </tr>\n",
       "    <tr>\n",
       "      <th>12921</th>\n",
       "      <td>[junto, a, Ben, Chaplin, y, Idris, Elba]</td>\n",
       "      <td>[1009, 342, 839, 2623, 1979, 337, 6254, 865, 1...</td>\n",
       "      <td>[Ġjunto, Ġa, ĠBen, ĠChap, lin, Ġy, ĠId, ris, Ġ...</td>\n",
       "      <td>[O, O, B-PER, I-PER, O, B-PER, I-PER]</td>\n",
       "      <td>[O, O, B-PER, I-PER, I-ORG, I-PER, I-PER]</td>\n",
       "    </tr>\n",
       "    <tr>\n",
       "      <th>12190</th>\n",
       "      <td>[===, Universal, /, PolyGram, ===]</td>\n",
       "      <td>[761, 4386, 499, 885, 89, 39, 4992, 761]</td>\n",
       "      <td>[Ġ===, ĠUniversal, Ġ/, ĠPol, y, G, ram, Ġ===]</td>\n",
       "      <td>[O, B-ORG, O, B-ORG, O]</td>\n",
       "      <td>[O, I-PER, O, I-ORG, I-PER]</td>\n",
       "    </tr>\n",
       "    <tr>\n",
       "      <th>10482</th>\n",
       "      <td>[Santa, María, del, Oro]</td>\n",
       "      <td>[723, 547, 360, 1770]</td>\n",
       "      <td>[ĠSanta, ĠMarÃŃa, Ġdel, ĠOro]</td>\n",
       "      <td>[B-LOC, I-LOC, I-LOC, I-LOC]</td>\n",
       "      <td>[B-LOC, I-PER, I-PER, I-PER]</td>\n",
       "    </tr>\n",
       "    <tr>\n",
       "      <th>6427</th>\n",
       "      <td>[Comarca, de, El, Morrazo]</td>\n",
       "      <td>[2646, 260, 437, 18436]</td>\n",
       "      <td>[ĠComarca, Ġde, ĠEl, ĠMorrazo]</td>\n",
       "      <td>[B-LOC, I-LOC, I-LOC, I-LOC]</td>\n",
       "      <td>[B-LOC, I-LOC, B-LOC, I-LOC]</td>\n",
       "    </tr>\n",
       "    <tr>\n",
       "      <th>5138</th>\n",
       "      <td>[REDIRECCIÓN, Sebastián, Cirac, Estopañán]</td>\n",
       "      <td>[276, 2686, 18119, 6313, 19617]</td>\n",
       "      <td>[ĠREDIRECCIÃĵN, ĠSebastiÃ¡n, ĠCirac, ĠEsto, pa...</td>\n",
       "      <td>[O, B-PER, I-PER, I-PER]</td>\n",
       "      <td>[O, B-LOC, B-PER, I-PER]</td>\n",
       "    </tr>\n",
       "    <tr>\n",
       "      <th>14327</th>\n",
       "      <td>[**, Perales, de, Tajuña, .]</td>\n",
       "      <td>[453, 605, 608, 260, 19388, 288]</td>\n",
       "      <td>[Ġ**, ĠPer, ales, Ġde, ĠTajuÃ±a, Ġ.]</td>\n",
       "      <td>[O, B-LOC, I-LOC, I-LOC, O]</td>\n",
       "      <td>[O, B-LOC, O, I-LOC, B-LOC]</td>\n",
       "    </tr>\n",
       "    <tr>\n",
       "      <th>1906</th>\n",
       "      <td>[', '', Rennae, Stubbs, Helena, Suková]</td>\n",
       "      <td>[257, 262, 10137, 9268, 6241, 9006]</td>\n",
       "      <td>[Ġ', Ġ'', ĠRennae, ĠStubbs, ĠHelena, ĠSukovÃ¡]</td>\n",
       "      <td>[O, O, B-PER, I-PER, B-PER, I-PER]</td>\n",
       "      <td>[O, O, B-PER, B-ORG, B-LOC, I-ORG]</td>\n",
       "    </tr>\n",
       "    <tr>\n",
       "      <th>13533</th>\n",
       "      <td>[Norman, Reedus, como, Daryl, Dixon, .]</td>\n",
       "      <td>[6680, 10670, 473, 4223, 1818, 6709, 288]</td>\n",
       "      <td>[ĠNorman, ĠReedus, Ġcomo, ĠDar, yl, ĠDixon, Ġ.]</td>\n",
       "      <td>[B-PER, I-PER, O, B-PER, I-PER, O]</td>\n",
       "      <td>[B-PER, B-PER, O, I-PER, O, I-PER]</td>\n",
       "    </tr>\n",
       "    <tr>\n",
       "      <th>10138</th>\n",
       "      <td>[Escrita, por, Carlos, Orellana, .]</td>\n",
       "      <td>[3463, 326, 414, 714, 17248, 477, 288]</td>\n",
       "      <td>[ĠEscri, ta, Ġpor, ĠCarlos, ĠOrell, ana, Ġ.]</td>\n",
       "      <td>[O, O, B-PER, I-PER, O]</td>\n",
       "      <td>[B-PER, B-ORG, O, B-PER, O]</td>\n",
       "    </tr>\n",
       "    <tr>\n",
       "      <th>16915</th>\n",
       "      <td>[REDIRECCIÓN, Marismas, de, Pinsk]</td>\n",
       "      <td>[276, 5080, 2715, 260, 1564, 883]</td>\n",
       "      <td>[ĠREDIRECCIÃĵN, ĠMaris, mas, Ġde, ĠPin, sk]</td>\n",
       "      <td>[O, B-LOC, I-LOC, I-LOC]</td>\n",
       "      <td>[O, B-PER, I-PER, I-PER]</td>\n",
       "    </tr>\n",
       "    <tr>\n",
       "      <th>2640</th>\n",
       "      <td>[Anabel, Ochoa, (, 1955-2008, ), .]</td>\n",
       "      <td>[15697, 7397, 286, 16220, 13, 2859, 287, 288]</td>\n",
       "      <td>[ĠAnabel, ĠOchoa, Ġ(, Ġ1955, -, 2008, Ġ), Ġ.]</td>\n",
       "      <td>[B-PER, I-PER, O, O, O, O]</td>\n",
       "      <td>[O, B-PER, O, B-LOC, O, O]</td>\n",
       "    </tr>\n",
       "  </tbody>\n",
       "</table>\n",
       "</div>"
      ],
      "text/plain": [
       "                                                  tokens  \\\n",
       "19249  [*El, primer, cuartel, simboliza, las, Islas, ...   \n",
       "5649        [REDIRECCIÓN, Tubérculo, menor, del, húmero]   \n",
       "11211                    [', '', Coquimbo, Unido, '', ']   \n",
       "18077        [====, Circuitos, Continentales, UCI, ====]   \n",
       "12921           [junto, a, Ben, Chaplin, y, Idris, Elba]   \n",
       "12190                 [===, Universal, /, PolyGram, ===]   \n",
       "10482                           [Santa, María, del, Oro]   \n",
       "6427                          [Comarca, de, El, Morrazo]   \n",
       "5138          [REDIRECCIÓN, Sebastián, Cirac, Estopañán]   \n",
       "14327                       [**, Perales, de, Tajuña, .]   \n",
       "1906             [', '', Rennae, Stubbs, Helena, Suková]   \n",
       "13533            [Norman, Reedus, como, Daryl, Dixon, .]   \n",
       "10138                [Escrita, por, Carlos, Orellana, .]   \n",
       "16915                 [REDIRECCIÓN, Marismas, de, Pinsk]   \n",
       "2640                 [Anabel, Ochoa, (, 1955-2008, ), .]   \n",
       "\n",
       "                                               token_ids  \\\n",
       "19249  [438, 3227, 2198, 990, 17310, 6294, 434, 1445,...   \n",
       "5649                  [276, 10777, 6464, 280, 360, 8957]   \n",
       "11211                   [257, 262, 4381, 1312, 262, 257]   \n",
       "18077        [2051, 3184, 5132, 15376, 3048, 6286, 2051]   \n",
       "12921  [1009, 342, 839, 2623, 1979, 337, 6254, 865, 1...   \n",
       "12190           [761, 4386, 499, 885, 89, 39, 4992, 761]   \n",
       "10482                              [723, 547, 360, 1770]   \n",
       "6427                             [2646, 260, 437, 18436]   \n",
       "5138                     [276, 2686, 18119, 6313, 19617]   \n",
       "14327                   [453, 605, 608, 260, 19388, 288]   \n",
       "1906                 [257, 262, 10137, 9268, 6241, 9006]   \n",
       "13533          [6680, 10670, 473, 4223, 1818, 6709, 288]   \n",
       "10138             [3463, 326, 414, 714, 17248, 477, 288]   \n",
       "16915                  [276, 5080, 2715, 260, 1564, 883]   \n",
       "2640       [15697, 7397, 286, 16220, 13, 2859, 287, 288]   \n",
       "\n",
       "                                           token_strings  \\\n",
       "19249  [Ġ*, El, Ġprimer, Ġcu, artel, Ġsim, bol, iza, ...   \n",
       "5649   [ĠREDIRECCIÃĵN, ĠTubÃ©rculo, Ġmen, or, Ġdel, Ġ...   \n",
       "11211              [Ġ', Ġ'', ĠCoquimbo, ĠUnido, Ġ'', Ġ']   \n",
       "18077  [Ġ====, ĠCircu, itos, ĠContin, entales, ĠUCI, ...   \n",
       "12921  [Ġjunto, Ġa, ĠBen, ĠChap, lin, Ġy, ĠId, ris, Ġ...   \n",
       "12190      [Ġ===, ĠUniversal, Ġ/, ĠPol, y, G, ram, Ġ===]   \n",
       "10482                      [ĠSanta, ĠMarÃŃa, Ġdel, ĠOro]   \n",
       "6427                      [ĠComarca, Ġde, ĠEl, ĠMorrazo]   \n",
       "5138   [ĠREDIRECCIÃĵN, ĠSebastiÃ¡n, ĠCirac, ĠEsto, pa...   \n",
       "14327               [Ġ**, ĠPer, ales, Ġde, ĠTajuÃ±a, Ġ.]   \n",
       "1906      [Ġ', Ġ'', ĠRennae, ĠStubbs, ĠHelena, ĠSukovÃ¡]   \n",
       "13533    [ĠNorman, ĠReedus, Ġcomo, ĠDar, yl, ĠDixon, Ġ.]   \n",
       "10138       [ĠEscri, ta, Ġpor, ĠCarlos, ĠOrell, ana, Ġ.]   \n",
       "16915        [ĠREDIRECCIÃĵN, ĠMaris, mas, Ġde, ĠPin, sk]   \n",
       "2640       [ĠAnabel, ĠOchoa, Ġ(, Ġ1955, -, 2008, Ġ), Ġ.]   \n",
       "\n",
       "                                 true_labels  \\\n",
       "19249       [O, O, O, O, O, B-LOC, I-LOC, O]   \n",
       "5649         [O, B-LOC, I-LOC, I-LOC, I-LOC]   \n",
       "11211             [O, O, B-ORG, I-ORG, O, O]   \n",
       "18077            [O, B-ORG, I-ORG, I-ORG, O]   \n",
       "12921  [O, O, B-PER, I-PER, O, B-PER, I-PER]   \n",
       "12190                [O, B-ORG, O, B-ORG, O]   \n",
       "10482           [B-LOC, I-LOC, I-LOC, I-LOC]   \n",
       "6427            [B-LOC, I-LOC, I-LOC, I-LOC]   \n",
       "5138                [O, B-PER, I-PER, I-PER]   \n",
       "14327            [O, B-LOC, I-LOC, I-LOC, O]   \n",
       "1906      [O, O, B-PER, I-PER, B-PER, I-PER]   \n",
       "13533     [B-PER, I-PER, O, B-PER, I-PER, O]   \n",
       "10138                [O, O, B-PER, I-PER, O]   \n",
       "16915               [O, B-LOC, I-LOC, I-LOC]   \n",
       "2640              [B-PER, I-PER, O, O, O, O]   \n",
       "\n",
       "                                predicted_labels  \n",
       "19249                   [O, O, O, O, O, O, O, O]  \n",
       "5649             [O, B-LOC, B-LOC, I-LOC, I-LOC]  \n",
       "11211                 [O, O, I-PER, I-PER, O, O]  \n",
       "18077            [O, B-PER, I-PER, I-PER, I-PER]  \n",
       "12921  [O, O, B-PER, I-PER, I-ORG, I-PER, I-PER]  \n",
       "12190                [O, I-PER, O, I-ORG, I-PER]  \n",
       "10482               [B-LOC, I-PER, I-PER, I-PER]  \n",
       "6427                [B-LOC, I-LOC, B-LOC, I-LOC]  \n",
       "5138                    [O, B-LOC, B-PER, I-PER]  \n",
       "14327                [O, B-LOC, O, I-LOC, B-LOC]  \n",
       "1906          [O, O, B-PER, B-ORG, B-LOC, I-ORG]  \n",
       "13533         [B-PER, B-PER, O, I-PER, O, I-PER]  \n",
       "10138                [B-PER, B-ORG, O, B-PER, O]  \n",
       "16915                   [O, B-PER, I-PER, I-PER]  \n",
       "2640                  [O, B-PER, O, B-LOC, O, O]  "
      ]
     },
     "execution_count": 44,
     "metadata": {},
     "output_type": "execute_result"
    }
   ],
   "source": [
    "errors = df[df['true_labels'] != df['predicted_labels']]\n",
    "errors.head(15)"
   ]
  },
  {
   "cell_type": "markdown",
   "metadata": {},
   "source": [
    "## Conclusiones\n",
    "- El performance del modelo es staisfactorio. La exerimentacion sugiere que usar mas epocas podria ser ideal para subir esas metricas. "
   ]
  },
  {
   "cell_type": "markdown",
   "metadata": {},
   "source": []
  }
 ],
 "metadata": {
  "kernelspec": {
   "display_name": "nlp_env",
   "language": "python",
   "name": "python3"
  },
  "language_info": {
   "codemirror_mode": {
    "name": "ipython",
    "version": 3
   },
   "file_extension": ".py",
   "mimetype": "text/x-python",
   "name": "python",
   "nbconvert_exporter": "python",
   "pygments_lexer": "ipython3",
   "version": "3.11.13"
  }
 },
 "nbformat": 4,
 "nbformat_minor": 2
}
